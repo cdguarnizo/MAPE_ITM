{
  "nbformat": 4,
  "nbformat_minor": 0,
  "metadata": {
    "colab": {
      "name": "TestUnivariados.ipynb",
      "provenance": [],
      "collapsed_sections": []
    },
    "kernelspec": {
      "name": "python3",
      "display_name": "Python 3"
    }
  },
  "cells": [
    {
      "cell_type": "markdown",
      "metadata": {
        "id": "YUwshuTTRRuc"
      },
      "source": [
        "# Test Univariados"
      ]
    },
    {
      "cell_type": "markdown",
      "metadata": {
        "id": "_ZWjtKBrVnNV"
      },
      "source": [
        "A continuacion se presentan algunos ejemplos de test Univariados. Basados en los notebooks [link1](https://towardsdatascience.com/hypothesis-testing-in-machine-learning-using-python-a0dc89e169ce) y [link2](https://github.com/edbullen/Hypothesis)."
      ]
    },
    {
      "cell_type": "markdown",
      "metadata": {
        "id": "-_FW95sr8LcQ"
      },
      "source": [
        "## Z-test"
      ]
    },
    {
      "cell_type": "code",
      "metadata": {
        "id": "7dLz62018pGI",
        "colab": {
          "base_uri": "https://localhost:8080/"
        },
        "outputId": "3114a6bc-e9dd-444c-9cd1-23656f6fecc2"
      },
      "source": [
        "!wget \"https://raw.githubusercontent.com/yug95/MachineLearning/master/Hypothesis testing/blood_pressure.csv\""
      ],
      "execution_count": 1,
      "outputs": [
        {
          "output_type": "stream",
          "name": "stdout",
          "text": [
            "--2021-10-08 23:45:51--  https://raw.githubusercontent.com/yug95/MachineLearning/master/Hypothesis%20testing/blood_pressure.csv\n",
            "Resolving raw.githubusercontent.com (raw.githubusercontent.com)... 185.199.108.133, 185.199.110.133, 185.199.111.133, ...\n",
            "Connecting to raw.githubusercontent.com (raw.githubusercontent.com)|185.199.108.133|:443... connected.\n",
            "HTTP request sent, awaiting response... 200 OK\n",
            "Length: 2851 (2.8K) [text/plain]\n",
            "Saving to: ‘blood_pressure.csv’\n",
            "\n",
            "\rblood_pressure.csv    0%[                    ]       0  --.-KB/s               \rblood_pressure.csv  100%[===================>]   2.78K  --.-KB/s    in 0s      \n",
            "\n",
            "2021-10-08 23:45:51 (51.2 MB/s) - ‘blood_pressure.csv’ saved [2851/2851]\n",
            "\n"
          ]
        }
      ]
    },
    {
      "cell_type": "code",
      "metadata": {
        "colab": {
          "base_uri": "https://localhost:8080/",
          "height": 300
        },
        "id": "Ufx4tEg7TmGg",
        "outputId": "ef286d87-bab9-4050-82a1-d4cd3d5fe290"
      },
      "source": [
        "df.describe()"
      ],
      "execution_count": 4,
      "outputs": [
        {
          "output_type": "execute_result",
          "data": {
            "text/html": [
              "<div>\n",
              "<style scoped>\n",
              "    .dataframe tbody tr th:only-of-type {\n",
              "        vertical-align: middle;\n",
              "    }\n",
              "\n",
              "    .dataframe tbody tr th {\n",
              "        vertical-align: top;\n",
              "    }\n",
              "\n",
              "    .dataframe thead th {\n",
              "        text-align: right;\n",
              "    }\n",
              "</style>\n",
              "<table border=\"1\" class=\"dataframe\">\n",
              "  <thead>\n",
              "    <tr style=\"text-align: right;\">\n",
              "      <th></th>\n",
              "      <th>patient</th>\n",
              "      <th>bp_before</th>\n",
              "      <th>bp_after</th>\n",
              "    </tr>\n",
              "  </thead>\n",
              "  <tbody>\n",
              "    <tr>\n",
              "      <th>count</th>\n",
              "      <td>120.000000</td>\n",
              "      <td>120.000000</td>\n",
              "      <td>120.000000</td>\n",
              "    </tr>\n",
              "    <tr>\n",
              "      <th>mean</th>\n",
              "      <td>60.500000</td>\n",
              "      <td>156.450000</td>\n",
              "      <td>151.358333</td>\n",
              "    </tr>\n",
              "    <tr>\n",
              "      <th>std</th>\n",
              "      <td>34.785054</td>\n",
              "      <td>11.389845</td>\n",
              "      <td>14.177622</td>\n",
              "    </tr>\n",
              "    <tr>\n",
              "      <th>min</th>\n",
              "      <td>1.000000</td>\n",
              "      <td>138.000000</td>\n",
              "      <td>125.000000</td>\n",
              "    </tr>\n",
              "    <tr>\n",
              "      <th>25%</th>\n",
              "      <td>30.750000</td>\n",
              "      <td>147.000000</td>\n",
              "      <td>140.750000</td>\n",
              "    </tr>\n",
              "    <tr>\n",
              "      <th>50%</th>\n",
              "      <td>60.500000</td>\n",
              "      <td>154.500000</td>\n",
              "      <td>149.500000</td>\n",
              "    </tr>\n",
              "    <tr>\n",
              "      <th>75%</th>\n",
              "      <td>90.250000</td>\n",
              "      <td>164.000000</td>\n",
              "      <td>161.000000</td>\n",
              "    </tr>\n",
              "    <tr>\n",
              "      <th>max</th>\n",
              "      <td>120.000000</td>\n",
              "      <td>185.000000</td>\n",
              "      <td>185.000000</td>\n",
              "    </tr>\n",
              "  </tbody>\n",
              "</table>\n",
              "</div>"
            ],
            "text/plain": [
              "          patient   bp_before    bp_after\n",
              "count  120.000000  120.000000  120.000000\n",
              "mean    60.500000  156.450000  151.358333\n",
              "std     34.785054   11.389845   14.177622\n",
              "min      1.000000  138.000000  125.000000\n",
              "25%     30.750000  147.000000  140.750000\n",
              "50%     60.500000  154.500000  149.500000\n",
              "75%     90.250000  164.000000  161.000000\n",
              "max    120.000000  185.000000  185.000000"
            ]
          },
          "metadata": {},
          "execution_count": 4
        }
      ]
    },
    {
      "cell_type": "code",
      "metadata": {
        "colab": {
          "base_uri": "https://localhost:8080/",
          "height": 283
        },
        "id": "ppQtnN2zVY2e",
        "outputId": "282c255c-b334-4c2a-8570-f1a6ddedbb39"
      },
      "source": [
        "df['bp_before'].hist()\n",
        "np.mean(df['bp_before'].values)"
      ],
      "execution_count": 16,
      "outputs": [
        {
          "output_type": "execute_result",
          "data": {
            "text/plain": [
              "156.45"
            ]
          },
          "metadata": {},
          "execution_count": 16
        },
        {
          "output_type": "display_data",
          "data": {
            "image/png": "[encoded data removed]",
            "text/plain": [
              "<Figure size 432x288 with 1 Axes>"
            ]
          },
          "metadata": {
            "needs_background": "light"
          }
        }
      ]
    },
    {
      "cell_type": "code",
      "metadata": {
        "colab": {
          "base_uri": "https://localhost:8080/",
          "height": 283
        },
        "id": "tR00m2xNVStH",
        "outputId": "08a2d4c0-c76b-4c40-d035-a39fbfdb8a28"
      },
      "source": [
        "df['bp_after'].hist()"
      ],
      "execution_count": 12,
      "outputs": [
        {
          "output_type": "execute_result",
          "data": {
            "text/plain": [
              "<matplotlib.axes._subplots.AxesSubplot at 0x7f661daaf650>"
            ]
          },
          "metadata": {},
          "execution_count": 12
        },
        {
          "output_type": "display_data",
          "data": {
            "image/png": "[encoded data removed]",
            "text/plain": [
              "<Figure size 432x288 with 1 Axes>"
            ]
          },
          "metadata": {
            "needs_background": "light"
          }
        }
      ]
    },
    {
      "cell_type": "code",
      "metadata": {
        "id": "mf1mLAun8Kl7",
        "colab": {
          "base_uri": "https://localhost:8080/"
        },
        "outputId": "1c0ca482-53c4-4f5f-8e69-96ab658352b7"
      },
      "source": [
        "import pandas as pd\n",
        "import numpy as np\n",
        "from scipy import stats\n",
        "from statsmodels.stats import weightstats as stests\n",
        "\n",
        "df = pd.read_csv(\"blood_pressure.csv\")\n",
        "ztest, pval = stests.ztest(df['bp_before'], x2=None, value=156, alternative = 'smaller')\n",
        "print(float(pval))\n",
        "if pval<0.05: # Es menor a 5%\n",
        "    print(\"Rechazar hipotesis nula\")\n",
        "else:\n",
        "    print(\"Aceptar hipotesis nula\")"
      ],
      "execution_count": 15,
      "outputs": [
        {
          "output_type": "stream",
          "name": "stdout",
          "text": [
            "0.6674192634872469\n",
            "Aceptar hipotesis nula\n"
          ]
        }
      ]
    },
    {
      "cell_type": "code",
      "metadata": {
        "colab": {
          "base_uri": "https://localhost:8080/"
        },
        "id": "Oe5Es5c3T74Q",
        "outputId": "9054de6e-76bf-4c9d-b38f-dc765ab7b723"
      },
      "source": [
        "ztest"
      ],
      "execution_count": 10,
      "outputs": [
        {
          "output_type": "execute_result",
          "data": {
            "text/plain": [
              "0.432798073526164"
            ]
          },
          "metadata": {},
          "execution_count": 10
        }
      ]
    },
    {
      "cell_type": "markdown",
      "metadata": {
        "id": "2JnEiQJg9Dgr"
      },
      "source": [
        "### Z-test de 2 muestras"
      ]
    },
    {
      "cell_type": "markdown",
      "metadata": {
        "id": "ZudHAO7yYEkw"
      },
      "source": [
        "En este caso verficamos si la media muestral de dos grupos es igual o no."
      ]
    },
    {
      "cell_type": "code",
      "metadata": {
        "id": "DEwJa_569GcQ",
        "colab": {
          "base_uri": "https://localhost:8080/"
        },
        "outputId": "f59aeba9-be00-4944-d121-bd5912eca390"
      },
      "source": [
        "ztest, pval1 = stests.ztest(df['bp_before'], x2=df['bp_after'], value=0, alternative='two-sided')\n",
        "print(float(pval1))\n",
        "if pval1<0.05:\n",
        "    print(\"Rechazar hipotesis nula\")\n",
        "else:\n",
        "    print(\"Aceptar hipotesis nula\")"
      ],
      "execution_count": 11,
      "outputs": [
        {
          "output_type": "stream",
          "name": "stdout",
          "text": [
            "0.002162306611369422\n",
            "Rechazar hipotesis nula\n"
          ]
        }
      ]
    },
    {
      "cell_type": "markdown",
      "metadata": {
        "id": "m0PJaaGsRUmk"
      },
      "source": [
        "## T-test"
      ]
    },
    {
      "cell_type": "markdown",
      "metadata": {
        "id": "wSzQnWdVReJC"
      },
      "source": [
        "### De una muestra"
      ]
    },
    {
      "cell_type": "code",
      "metadata": {
        "id": "fqQWlyPBGUMp",
        "colab": {
          "base_uri": "https://localhost:8080/"
        },
        "outputId": "31b38e0e-f83d-44f1-9bd2-931264f02c6e"
      },
      "source": [
        "!wget https://raw.githubusercontent.com/edbullen/Hypothesis/master/ages.csv"
      ],
      "execution_count": 17,
      "outputs": [
        {
          "output_type": "stream",
          "name": "stdout",
          "text": [
            "--2021-10-08 23:57:50--  https://raw.githubusercontent.com/edbullen/Hypothesis/master/ages.csv\n",
            "Resolving raw.githubusercontent.com (raw.githubusercontent.com)... 185.199.108.133, 185.199.109.133, 185.199.110.133, ...\n",
            "Connecting to raw.githubusercontent.com (raw.githubusercontent.com)|185.199.108.133|:443... connected.\n",
            "HTTP request sent, awaiting response... 200 OK\n",
            "Length: 42 [text/plain]\n",
            "Saving to: ‘ages.csv’\n",
            "\n",
            "\rages.csv              0%[                    ]       0  --.-KB/s               \rages.csv            100%[===================>]      42  --.-KB/s    in 0s      \n",
            "\n",
            "2021-10-08 23:57:50 (2.41 MB/s) - ‘ages.csv’ saved [42/42]\n",
            "\n"
          ]
        }
      ]
    },
    {
      "cell_type": "code",
      "metadata": {
        "id": "xsWVtGsKwcPM"
      },
      "source": [
        "ages = pd.read_csv(\"ages.csv\", names = ['ages'])"
      ],
      "execution_count": 25,
      "outputs": []
    },
    {
      "cell_type": "code",
      "metadata": {
        "colab": {
          "base_uri": "https://localhost:8080/"
        },
        "id": "6NC4sxIMXK5N",
        "outputId": "6dae8463-2ac8-4bb2-94a1-1b940540e5c9"
      },
      "source": [
        "ages['ages'].values"
      ],
      "execution_count": 27,
      "outputs": [
        {
          "output_type": "execute_result",
          "data": {
            "text/plain": [
              "array([32, 34, 29, 29, 22, 39, 38, 37, 38, 36, 30, 26, 22, 22])"
            ]
          },
          "metadata": {},
          "execution_count": 27
        }
      ]
    },
    {
      "cell_type": "code",
      "metadata": {
        "id": "SFqBn_uoRQ-y",
        "colab": {
          "base_uri": "https://localhost:8080/"
        },
        "outputId": "ee269171-f25e-4d22-a8d2-408b5969c830"
      },
      "source": [
        "from scipy.stats import ttest_1samp\n",
        "import numpy as np\n",
        "\n",
        "# ages = np.genfromtxt(\"ages.csv\",  delimiter=\",\")\n",
        "# ages = np.random.randint(29,31,10)\n",
        "ages = 29.8 + np.sqrt(10.0)*np.random.randn(30,1)\n",
        "\n",
        "ages_mean = np.mean(ages)\n",
        "print(ages_mean)\n",
        "\n",
        "tset, pval = ttest_1samp(ages, 30)\n",
        "print(\"p-values\",pval)\n",
        "if pval < 0.05:    # valor de alpha 0.05 o 5%\n",
        "   print(\"Se rechaza la hipotesis nula\")\n",
        "else:\n",
        "  print(\"Se acepta la hipotesis nula\")"
      ],
      "execution_count": 93,
      "outputs": [
        {
          "output_type": "stream",
          "name": "stdout",
          "text": [
            "30.14241034225317\n",
            "p-values [0.80093163]\n",
            "Se acepta la hipotesis nula\n"
          ]
        }
      ]
    },
    {
      "cell_type": "markdown",
      "metadata": {
        "id": "XCNTW-PsCIZi"
      },
      "source": [
        "### De dos muestras"
      ]
    },
    {
      "cell_type": "markdown",
      "metadata": {
        "id": "pH0q6BQrP1MV"
      },
      "source": [
        "Suponga que la semana pasada, la cantidad promedio de tiempo utilizado por visita en un pagina web fue de 25 min. \n",
        "Esta semana, el promedio empleado por visitante a la pagina web fue de 28 min. Cambió la media de tiempo utilizada por cada visitante? O es parte de las fluctuaciones naturales?"
      ]
    },
    {
      "cell_type": "code",
      "metadata": {
        "id": "ZPlxCzDlFpUY",
        "colab": {
          "base_uri": "https://localhost:8080/"
        },
        "outputId": "8507a37a-994b-40ed-b90f-147e729823f6"
      },
      "source": [
        "!wget https://raw.githubusercontent.com/edbullen/Hypothesis/master/week1.csv\n",
        "!wget https://raw.githubusercontent.com/edbullen/Hypothesis/master/week2.csv"
      ],
      "execution_count": 94,
      "outputs": [
        {
          "output_type": "stream",
          "name": "stdout",
          "text": [
            "--2021-10-09 00:10:36--  https://raw.githubusercontent.com/edbullen/Hypothesis/master/week1.csv\n",
            "Resolving raw.githubusercontent.com (raw.githubusercontent.com)... 185.199.108.133, 185.199.109.133, 185.199.110.133, ...\n",
            "Connecting to raw.githubusercontent.com (raw.githubusercontent.com)|185.199.108.133|:443... connected.\n",
            "HTTP request sent, awaiting response... 200 OK\n",
            "Length: 596 [text/plain]\n",
            "Saving to: ‘week1.csv’\n",
            "\n",
            "\rweek1.csv             0%[                    ]       0  --.-KB/s               \rweek1.csv           100%[===================>]     596  --.-KB/s    in 0s      \n",
            "\n",
            "2021-10-09 00:10:36 (16.6 MB/s) - ‘week1.csv’ saved [596/596]\n",
            "\n",
            "--2021-10-09 00:10:37--  https://raw.githubusercontent.com/edbullen/Hypothesis/master/week2.csv\n",
            "Resolving raw.githubusercontent.com (raw.githubusercontent.com)... 185.199.110.133, 185.199.108.133, 185.199.111.133, ...\n",
            "Connecting to raw.githubusercontent.com (raw.githubusercontent.com)|185.199.110.133|:443... connected.\n",
            "HTTP request sent, awaiting response... 200 OK\n",
            "Length: 594 [text/plain]\n",
            "Saving to: ‘week2.csv’\n",
            "\n",
            "week2.csv           100%[===================>]     594  --.-KB/s    in 0s      \n",
            "\n",
            "2021-10-09 00:10:37 (36.0 MB/s) - ‘week2.csv’ saved [594/594]\n",
            "\n"
          ]
        }
      ]
    },
    {
      "cell_type": "code",
      "metadata": {
        "id": "IHlB2ILnPqLB",
        "colab": {
          "base_uri": "https://localhost:8080/",
          "height": 265
        },
        "outputId": "c57946a1-8ed0-4eea-f049-4baa348284b0"
      },
      "source": [
        "import numpy as np\n",
        "import matplotlib.pyplot as plt\n",
        "\n",
        "week1 = np.genfromtxt(\"week1.csv\",  delimiter=\",\")\n",
        "week2 = np.genfromtxt(\"week2.csv\",  delimiter=\",\")\n",
        "\n",
        "plt.hist(week1, bins=20, color='b', alpha=0.5)\n",
        "plt.hist(week2, bins=20, color='r', alpha=0.5)\n",
        "plt.show()"
      ],
      "execution_count": 103,
      "outputs": [
        {
          "output_type": "display_data",
          "data": {
            "image/png": "[encoded data removed]",
            "text/plain": [
              "<Figure size 432x288 with 1 Axes>"
            ]
          },
          "metadata": {
            "needs_background": "light"
          }
        }
      ]
    },
    {
      "cell_type": "code",
      "metadata": {
        "colab": {
          "base_uri": "https://localhost:8080/"
        },
        "id": "qwr1PCflZCDN",
        "outputId": "df50e185-b16e-4c60-b03a-63d5c8d460a5"
      },
      "source": [
        "week1.shape"
      ],
      "execution_count": 97,
      "outputs": [
        {
          "output_type": "execute_result",
          "data": {
            "text/plain": [
              "(50,)"
            ]
          },
          "metadata": {},
          "execution_count": 97
        }
      ]
    },
    {
      "cell_type": "code",
      "metadata": {
        "id": "3f3BBHp3xLnx",
        "colab": {
          "base_uri": "https://localhost:8080/"
        },
        "outputId": "4845ef39-3f0f-40f6-bf90-ec6dbe9be915"
      },
      "source": [
        "from scipy.stats import ttest_ind\n",
        "\n",
        "print(\"week1 data :-\\n\")\n",
        "print(week1)\n",
        "print(\"week2 data :-\\n\")\n",
        "print(week2)\n",
        "\n",
        "week1_mean = np.mean(week1)\n",
        "week2_mean = np.mean(week2)\n",
        "\n",
        "print(\"week1 mean value:\",week1_mean)\n",
        "print(\"week2 mean value:\",week2_mean)\n",
        "\n",
        "week1_std = np.std(week1)\n",
        "week2_std = np.std(week2)\n",
        "\n",
        "print(\"week1 std value:\",week1_std)\n",
        "print(\"week2 std value:\",week2_std)\n",
        "\n",
        "ttest,pval = ttest_ind(week1, week2)\n",
        "print(\"p-value\",pval)\n",
        "if pval <0.05:\n",
        "  print(\"Rechazar hipotesis nula\")\n",
        "else:\n",
        "  print(\"Aceptar hipotesis nula\")"
      ],
      "execution_count": 104,
      "outputs": [
        {
          "output_type": "stream",
          "name": "stdout",
          "text": [
            "week1 data :-\n",
            "\n",
            "[23.90506824 26.67631982 27.27433886 24.25757125 32.40423483 39.56919357\n",
            " 23.07010059 29.82068109 27.59433809 28.05639569 27.06757262 30.41192979\n",
            " 25.71358554 24.94294823 28.23123807 24.95337555 18.51231639 27.46234762\n",
            " 28.38016611 13.91205901 29.02615866 26.90746774 22.8677726  24.8938289\n",
            " 25.96947935 26.86869621 20.72676456 27.35988314 20.68408581 21.19846143\n",
            " 16.25800931 23.92517681 24.47923229 29.47050863 27.28425372 26.93339272\n",
            " 28.61026924 18.88377042 33.65468651 25.69470077 20.98291356 22.69700387\n",
            " 28.60278855 21.36000443 30.77685156 20.83415999 23.79367158 19.7556718\n",
            " 29.54421084 20.1433138 ]\n",
            "week2 data :-\n",
            "\n",
            "[18.63431907 31.28788036 34.96797943 21.81678117 28.21619974 39.39313736\n",
            " 35.52223207 27.54222109 33.64395433 25.31673581 28.81392191 30.7358016\n",
            " 26.37241881 26.0945555  26.34073477 19.42196017 32.58797652 24.84001926\n",
            " 28.93348335 20.43667584 22.72495967 32.31728012 35.384306   29.66709637\n",
            " 24.53512973 30.91406007 19.56117513 24.90816833 30.13163726 31.47466199\n",
            " 27.77683598 16.51307462 35.0770162  31.74818107 36.36053496 27.70500593\n",
            " 29.49869936 27.65575346 37.18504075 25.16055104 29.26553553 38.22163057\n",
            " 28.92102091 24.8215439  38.30155495 34.76020645 22.26869162 28.82593733\n",
            " 32.00975127 36.46437665]\n",
            "week1 mean value: 25.4480593952\n",
            "week2 mean value: 29.0215681076\n",
            "week1 std value: 4.531693386680561\n",
            "week2 std value: 5.497966708987187\n",
            "p-value 0.000676767690454633\n",
            "Rechazar hipotesis nula\n"
          ]
        }
      ]
    },
    {
      "cell_type": "markdown",
      "metadata": {
        "id": "QQS3FmEAWvlR"
      },
      "source": [
        "### Paired sampled t-test"
      ]
    },
    {
      "cell_type": "markdown",
      "metadata": {
        "id": "ilwZvj6FXNmA"
      },
      "source": [
        "H0 : la diferencia entre 2 muestras es 0 <br>\n",
        "H1: la diferencia entre 2 muestras no es 0"
      ]
    },
    {
      "cell_type": "markdown",
      "metadata": {
        "id": "-1QBJ6F9XpV5"
      },
      "source": [
        "En este ejemplo se busca verificar si la presion arterial cambia entre antes de un procedimiento o despues del mismo."
      ]
    },
    {
      "cell_type": "code",
      "metadata": {
        "id": "Yp7APAw8xNpR",
        "colab": {
          "base_uri": "https://localhost:8080/"
        },
        "outputId": "69c38ca5-5607-4067-e6e0-bf2c0baea4e5"
      },
      "source": [
        "import pandas as pd\n",
        "from scipy import stats\n",
        "df = pd.read_csv(\"blood_pressure.csv\")\n",
        "df[['bp_before','bp_after']].describe()\n",
        "ttest, pval = stats.ttest_rel(df['bp_before'], df['bp_after'])\n",
        "print(pval)\n",
        "if pval <0.05:\n",
        "  print(\"Rechazar hipotesis nula\")\n",
        "else:\n",
        "  print(\"Aceptar hipotesis nula\")"
      ],
      "execution_count": 105,
      "outputs": [
        {
          "output_type": "stream",
          "name": "stdout",
          "text": [
            "0.0011297914644840823\n",
            "Rechazar hipotesis nula\n"
          ]
        }
      ]
    },
    {
      "cell_type": "markdown",
      "metadata": {
        "id": "jGXKtVMyZqfv"
      },
      "source": [
        "## F-test"
      ]
    },
    {
      "cell_type": "markdown",
      "metadata": {
        "id": "mUX5dQJvZ9Z4"
      },
      "source": [
        "### One way"
      ]
    },
    {
      "cell_type": "markdown",
      "metadata": {
        "id": "H7minRy4alkg"
      },
      "source": [
        "Para este ejemplo existe 3 diferentes categorias de plantas y su peso. Se require verificar que los 3 grupos son similares o no."
      ]
    },
    {
      "cell_type": "code",
      "metadata": {
        "id": "3rhEkjHAZuI5",
        "colab": {
          "base_uri": "https://localhost:8080/"
        },
        "outputId": "94142204-ac9c-4a95-b9fd-86e594abb337"
      },
      "source": [
        "!wget \"https://raw.githubusercontent.com/yug95/MachineLearning/master/Hypothesis testing/PlantGrowth.csv\""
      ],
      "execution_count": 107,
      "outputs": [
        {
          "output_type": "stream",
          "name": "stdout",
          "text": [
            "--2021-10-09 00:16:33--  https://raw.githubusercontent.com/yug95/MachineLearning/master/Hypothesis%20testing/PlantGrowth.csv\n",
            "Resolving raw.githubusercontent.com (raw.githubusercontent.com)... 185.199.108.133, 185.199.109.133, 185.199.110.133, ...\n",
            "Connecting to raw.githubusercontent.com (raw.githubusercontent.com)|185.199.108.133|:443... connected.\n",
            "HTTP request sent, awaiting response... 200 OK\n",
            "Length: 518 [text/plain]\n",
            "Saving to: ‘PlantGrowth.csv’\n",
            "\n",
            "\rPlantGrowth.csv       0%[                    ]       0  --.-KB/s               \rPlantGrowth.csv     100%[===================>]     518  --.-KB/s    in 0s      \n",
            "\n",
            "2021-10-09 00:16:34 (22.5 MB/s) - ‘PlantGrowth.csv’ saved [518/518]\n",
            "\n"
          ]
        }
      ]
    },
    {
      "cell_type": "code",
      "metadata": {
        "id": "4v89ytqzZoks",
        "colab": {
          "base_uri": "https://localhost:8080/"
        },
        "outputId": "4c6e6127-0325-4695-d4c4-e6ad5ed2bffd"
      },
      "source": [
        "df_anova = pd.read_csv('PlantGrowth.csv')\n",
        "df_anova = df_anova[['weight','group']]\n",
        "grps = pd.unique(df_anova.group.values)\n",
        "d_data = {grp:df_anova['weight'][df_anova.group == grp] for grp in grps}\n",
        " \n",
        "F, p = stats.f_oneway(d_data['ctrl'], d_data['trt1'], d_data['trt2'])\n",
        "print(\"p-value for significance is: \", p)\n",
        "if p <0.01:\n",
        "  print(\"Rechazar hipotesis nula\")\n",
        "else:\n",
        "  print(\"Aceptar hipotesis nula\")"
      ],
      "execution_count": 116,
      "outputs": [
        {
          "output_type": "stream",
          "name": "stdout",
          "text": [
            "p-value for significance is:  0.0159099583256229\n",
            "Aceptar hipotesis nula\n"
          ]
        }
      ]
    },
    {
      "cell_type": "code",
      "metadata": {
        "colab": {
          "base_uri": "https://localhost:8080/",
          "height": 206
        },
        "id": "FgFZsmc0aKRE",
        "outputId": "b97d37b5-302c-4fdc-ca8b-81cf4a7234ee"
      },
      "source": [
        "df_anova = pd.read_csv('PlantGrowth.csv')\n",
        "df_anova.head()"
      ],
      "execution_count": 114,
      "outputs": [
        {
          "output_type": "execute_result",
          "data": {
            "text/html": [
              "<div>\n",
              "<style scoped>\n",
              "    .dataframe tbody tr th:only-of-type {\n",
              "        vertical-align: middle;\n",
              "    }\n",
              "\n",
              "    .dataframe tbody tr th {\n",
              "        vertical-align: top;\n",
              "    }\n",
              "\n",
              "    .dataframe thead th {\n",
              "        text-align: right;\n",
              "    }\n",
              "</style>\n",
              "<table border=\"1\" class=\"dataframe\">\n",
              "  <thead>\n",
              "    <tr style=\"text-align: right;\">\n",
              "      <th></th>\n",
              "      <th>Unnamed: 0</th>\n",
              "      <th>weight</th>\n",
              "      <th>group</th>\n",
              "    </tr>\n",
              "  </thead>\n",
              "  <tbody>\n",
              "    <tr>\n",
              "      <th>0</th>\n",
              "      <td>1</td>\n",
              "      <td>4.17</td>\n",
              "      <td>ctrl</td>\n",
              "    </tr>\n",
              "    <tr>\n",
              "      <th>1</th>\n",
              "      <td>2</td>\n",
              "      <td>5.58</td>\n",
              "      <td>ctrl</td>\n",
              "    </tr>\n",
              "    <tr>\n",
              "      <th>2</th>\n",
              "      <td>3</td>\n",
              "      <td>5.18</td>\n",
              "      <td>ctrl</td>\n",
              "    </tr>\n",
              "    <tr>\n",
              "      <th>3</th>\n",
              "      <td>4</td>\n",
              "      <td>6.11</td>\n",
              "      <td>ctrl</td>\n",
              "    </tr>\n",
              "    <tr>\n",
              "      <th>4</th>\n",
              "      <td>5</td>\n",
              "      <td>4.50</td>\n",
              "      <td>ctrl</td>\n",
              "    </tr>\n",
              "  </tbody>\n",
              "</table>\n",
              "</div>"
            ],
            "text/plain": [
              "   Unnamed: 0  weight group\n",
              "0           1    4.17  ctrl\n",
              "1           2    5.58  ctrl\n",
              "2           3    5.18  ctrl\n",
              "3           4    6.11  ctrl\n",
              "4           5    4.50  ctrl"
            ]
          },
          "metadata": {},
          "execution_count": 114
        }
      ]
    },
    {
      "cell_type": "code",
      "metadata": {
        "colab": {
          "base_uri": "https://localhost:8080/"
        },
        "id": "xiHcquCeahZD",
        "outputId": "13b967f0-1fb7-4e82-8274-0000515e3b7f"
      },
      "source": [
        "np.mean(d_data['trt2'])"
      ],
      "execution_count": 119,
      "outputs": [
        {
          "output_type": "execute_result",
          "data": {
            "text/plain": [
              "5.526"
            ]
          },
          "metadata": {},
          "execution_count": 119
        }
      ]
    },
    {
      "cell_type": "markdown",
      "metadata": {
        "id": "c2RvkKmDaAv4"
      },
      "source": [
        "### Two ways"
      ]
    },
    {
      "cell_type": "markdown",
      "metadata": {
        "id": "Ao8fSIgCb4Ch"
      },
      "source": [
        "Se analiza un campo de maiz por factores, estos factores se emplean como grupos."
      ]
    },
    {
      "cell_type": "code",
      "metadata": {
        "id": "YRKaz8A0Z5Zz",
        "colab": {
          "base_uri": "https://localhost:8080/",
          "height": 206
        },
        "outputId": "1e3da849-ae3a-4461-ca8b-22163a0d3be3"
      },
      "source": [
        "import statsmodels.api as sm\n",
        "from statsmodels.formula.api import ols\n",
        "\n",
        "df_anova2 = pd.read_csv(\"https://raw.githubusercontent.com/Opensourcefordatascience/Data-sets/master/crop_yield.csv\")\n",
        "\n",
        "df_anova2.head()"
      ],
      "execution_count": 122,
      "outputs": [
        {
          "output_type": "execute_result",
          "data": {
            "text/html": [
              "<div>\n",
              "<style scoped>\n",
              "    .dataframe tbody tr th:only-of-type {\n",
              "        vertical-align: middle;\n",
              "    }\n",
              "\n",
              "    .dataframe tbody tr th {\n",
              "        vertical-align: top;\n",
              "    }\n",
              "\n",
              "    .dataframe thead th {\n",
              "        text-align: right;\n",
              "    }\n",
              "</style>\n",
              "<table border=\"1\" class=\"dataframe\">\n",
              "  <thead>\n",
              "    <tr style=\"text-align: right;\">\n",
              "      <th></th>\n",
              "      <th>Fert</th>\n",
              "      <th>Water</th>\n",
              "      <th>Yield</th>\n",
              "    </tr>\n",
              "  </thead>\n",
              "  <tbody>\n",
              "    <tr>\n",
              "      <th>0</th>\n",
              "      <td>A</td>\n",
              "      <td>High</td>\n",
              "      <td>27.4</td>\n",
              "    </tr>\n",
              "    <tr>\n",
              "      <th>1</th>\n",
              "      <td>A</td>\n",
              "      <td>High</td>\n",
              "      <td>33.6</td>\n",
              "    </tr>\n",
              "    <tr>\n",
              "      <th>2</th>\n",
              "      <td>A</td>\n",
              "      <td>High</td>\n",
              "      <td>29.8</td>\n",
              "    </tr>\n",
              "    <tr>\n",
              "      <th>3</th>\n",
              "      <td>A</td>\n",
              "      <td>High</td>\n",
              "      <td>35.2</td>\n",
              "    </tr>\n",
              "    <tr>\n",
              "      <th>4</th>\n",
              "      <td>A</td>\n",
              "      <td>High</td>\n",
              "      <td>33.0</td>\n",
              "    </tr>\n",
              "  </tbody>\n",
              "</table>\n",
              "</div>"
            ],
            "text/plain": [
              "  Fert Water  Yield\n",
              "0    A  High   27.4\n",
              "1    A  High   33.6\n",
              "2    A  High   29.8\n",
              "3    A  High   35.2\n",
              "4    A  High   33.0"
            ]
          },
          "metadata": {},
          "execution_count": 122
        }
      ]
    },
    {
      "cell_type": "code",
      "metadata": {
        "id": "FqCJyxzGcXGY",
        "colab": {
          "base_uri": "https://localhost:8080/",
          "height": 192
        },
        "outputId": "2dc0a394-8ca1-4090-a296-fdced93dc68c"
      },
      "source": [
        "model = ols('Yield ~ C(Fert)*C(Water)', df_anova2).fit()\n",
        "\n",
        "print(f\"Overall model F({model.df_model: .0f},{model.df_resid: .0f}) = {model.fvalue: .3f}, p = {model.f_pvalue: .4f}\")\n",
        "res = sm.stats.anova_lm(model, typ= 2)\n",
        "res"
      ],
      "execution_count": 123,
      "outputs": [
        {
          "output_type": "stream",
          "name": "stdout",
          "text": [
            "Overall model F( 3, 16) =  4.112, p =  0.0243\n"
          ]
        },
        {
          "output_type": "execute_result",
          "data": {
            "text/html": [
              "<div>\n",
              "<style scoped>\n",
              "    .dataframe tbody tr th:only-of-type {\n",
              "        vertical-align: middle;\n",
              "    }\n",
              "\n",
              "    .dataframe tbody tr th {\n",
              "        vertical-align: top;\n",
              "    }\n",
              "\n",
              "    .dataframe thead th {\n",
              "        text-align: right;\n",
              "    }\n",
              "</style>\n",
              "<table border=\"1\" class=\"dataframe\">\n",
              "  <thead>\n",
              "    <tr style=\"text-align: right;\">\n",
              "      <th></th>\n",
              "      <th>sum_sq</th>\n",
              "      <th>df</th>\n",
              "      <th>F</th>\n",
              "      <th>PR(&gt;F)</th>\n",
              "    </tr>\n",
              "  </thead>\n",
              "  <tbody>\n",
              "    <tr>\n",
              "      <th>C(Fert)</th>\n",
              "      <td>69.192</td>\n",
              "      <td>1.0</td>\n",
              "      <td>5.766000</td>\n",
              "      <td>0.028847</td>\n",
              "    </tr>\n",
              "    <tr>\n",
              "      <th>C(Water)</th>\n",
              "      <td>63.368</td>\n",
              "      <td>1.0</td>\n",
              "      <td>5.280667</td>\n",
              "      <td>0.035386</td>\n",
              "    </tr>\n",
              "    <tr>\n",
              "      <th>C(Fert):C(Water)</th>\n",
              "      <td>15.488</td>\n",
              "      <td>1.0</td>\n",
              "      <td>1.290667</td>\n",
              "      <td>0.272656</td>\n",
              "    </tr>\n",
              "    <tr>\n",
              "      <th>Residual</th>\n",
              "      <td>192.000</td>\n",
              "      <td>16.0</td>\n",
              "      <td>NaN</td>\n",
              "      <td>NaN</td>\n",
              "    </tr>\n",
              "  </tbody>\n",
              "</table>\n",
              "</div>"
            ],
            "text/plain": [
              "                   sum_sq    df         F    PR(>F)\n",
              "C(Fert)            69.192   1.0  5.766000  0.028847\n",
              "C(Water)           63.368   1.0  5.280667  0.035386\n",
              "C(Fert):C(Water)   15.488   1.0  1.290667  0.272656\n",
              "Residual          192.000  16.0       NaN       NaN"
            ]
          },
          "metadata": {},
          "execution_count": 123
        }
      ]
    },
    {
      "cell_type": "markdown",
      "metadata": {
        "id": "lqRPCxQXbtDz"
      },
      "source": [
        "## Chi-square test"
      ]
    },
    {
      "cell_type": "markdown",
      "metadata": {
        "id": "5P9536brfxPW"
      },
      "source": [
        "Por ejemplo, en el resumen de una votacion, los votantes pueden ser clasificados por genero (hombre o mujer) y su preferencia (Democrata, Republicano, o Independiente). Se puede usar Chi-square para determinar si el genero esta relacionado con la preferencia de voto."
      ]
    },
    {
      "cell_type": "code",
      "metadata": {
        "id": "73NFU4WMez8T",
        "colab": {
          "base_uri": "https://localhost:8080/"
        },
        "outputId": "2077b763-596a-4dfd-d130-a0fc7c3e2af9"
      },
      "source": [
        "!wget https://raw.githubusercontent.com/yug95/MachineLearning/master/Hypothesis%20testing/chi-test.csv"
      ],
      "execution_count": 124,
      "outputs": [
        {
          "output_type": "stream",
          "name": "stdout",
          "text": [
            "--2021-10-09 00:28:22--  https://raw.githubusercontent.com/yug95/MachineLearning/master/Hypothesis%20testing/chi-test.csv\n",
            "Resolving raw.githubusercontent.com (raw.githubusercontent.com)... 185.199.110.133, 185.199.111.133, 185.199.108.133, ...\n",
            "Connecting to raw.githubusercontent.com (raw.githubusercontent.com)|185.199.110.133|:443... connected.\n",
            "HTTP request sent, awaiting response... 200 OK\n",
            "Length: 109 [text/plain]\n",
            "Saving to: ‘chi-test.csv’\n",
            "\n",
            "\rchi-test.csv          0%[                    ]       0  --.-KB/s               \rchi-test.csv        100%[===================>]     109  --.-KB/s    in 0s      \n",
            "\n",
            "2021-10-09 00:28:22 (5.92 MB/s) - ‘chi-test.csv’ saved [109/109]\n",
            "\n"
          ]
        }
      ]
    },
    {
      "cell_type": "code",
      "metadata": {
        "id": "oM1TYBcBfK-1",
        "colab": {
          "base_uri": "https://localhost:8080/",
          "height": 206
        },
        "outputId": "6fafd6a3-bfb2-40b7-b96d-56db1281c763"
      },
      "source": [
        "df_chi = pd.read_csv('chi-test.csv')\n",
        "df_chi.tail()"
      ],
      "execution_count": 126,
      "outputs": [
        {
          "output_type": "execute_result",
          "data": {
            "text/html": [
              "<div>\n",
              "<style scoped>\n",
              "    .dataframe tbody tr th:only-of-type {\n",
              "        vertical-align: middle;\n",
              "    }\n",
              "\n",
              "    .dataframe tbody tr th {\n",
              "        vertical-align: top;\n",
              "    }\n",
              "\n",
              "    .dataframe thead th {\n",
              "        text-align: right;\n",
              "    }\n",
              "</style>\n",
              "<table border=\"1\" class=\"dataframe\">\n",
              "  <thead>\n",
              "    <tr style=\"text-align: right;\">\n",
              "      <th></th>\n",
              "      <th>Gender</th>\n",
              "      <th>Like Shopping?</th>\n",
              "    </tr>\n",
              "  </thead>\n",
              "  <tbody>\n",
              "    <tr>\n",
              "      <th>4</th>\n",
              "      <td>Female</td>\n",
              "      <td>Yes</td>\n",
              "    </tr>\n",
              "    <tr>\n",
              "      <th>5</th>\n",
              "      <td>Male</td>\n",
              "      <td>Yes</td>\n",
              "    </tr>\n",
              "    <tr>\n",
              "      <th>6</th>\n",
              "      <td>Male</td>\n",
              "      <td>No</td>\n",
              "    </tr>\n",
              "    <tr>\n",
              "      <th>7</th>\n",
              "      <td>Female</td>\n",
              "      <td>No</td>\n",
              "    </tr>\n",
              "    <tr>\n",
              "      <th>8</th>\n",
              "      <td>Female</td>\n",
              "      <td>No</td>\n",
              "    </tr>\n",
              "  </tbody>\n",
              "</table>\n",
              "</div>"
            ],
            "text/plain": [
              "   Gender Like Shopping?\n",
              "4  Female            Yes\n",
              "5    Male            Yes\n",
              "6    Male             No\n",
              "7  Female             No\n",
              "8  Female             No"
            ]
          },
          "metadata": {},
          "execution_count": 126
        }
      ]
    },
    {
      "cell_type": "code",
      "metadata": {
        "id": "xx5qhHwCbvaL",
        "colab": {
          "base_uri": "https://localhost:8080/"
        },
        "outputId": "a768bbba-9fe8-4b67-ec8d-d8d0dde39d20"
      },
      "source": [
        "contingency_table=pd.crosstab(df_chi[\"Gender\"],df_chi['Like Shopping?'])\n",
        "print('contingency_table :-\\n',contingency_table)\n",
        "\n",
        "#Observed Values\n",
        "Observed_Values = contingency_table.values \n",
        "print(\"Observed Values :-\\n\",Observed_Values)\n",
        "\n",
        "b=stats.chi2_contingency(contingency_table)\n",
        "Expected_Values = b[3]\n",
        "print(\"Expected Values :-\\n\",Expected_Values)\n",
        "\n",
        "no_of_rows=len(contingency_table.iloc[0:2,0])\n",
        "no_of_columns=len(contingency_table.iloc[0,0:2])\n",
        "ddof=(no_of_rows-1)*(no_of_columns-1)\n",
        "print(\"Degree of Freedom:-\",ddof)\n",
        "\n",
        "alpha = 0.05\n",
        "\n",
        "from scipy.stats import chi2\n",
        "\n",
        "chi_square=sum([(o-e)**2./e for o,e in zip(Observed_Values,Expected_Values)])\n",
        "chi_square_statistic=chi_square[0]+chi_square[1]\n",
        "print(\"chi-square statistic:-\",chi_square_statistic)\n",
        "\n",
        "critical_value=chi2.ppf(q=1-alpha,df=ddof)\n",
        "print('critical_value:',critical_value)\n",
        "\n",
        "#p-value\n",
        "p_value=1-chi2.cdf(x=chi_square_statistic,df=ddof)\n",
        "print('p-value:',p_value)\n",
        "print('Significance level: ',alpha)\n",
        "print('Degree of Freedom: ',ddof)\n",
        "print('chi-square statistic:',chi_square_statistic)\n",
        "print('critical_value:',critical_value)\n",
        "print('p-value:',p_value)\n",
        "\n",
        "if chi_square_statistic>=critical_value:\n",
        "    print(\"Reject H0,There is a relationship between 2 categorical variables\")\n",
        "else:\n",
        "    print(\"Retain H0,There is no relationship between 2 categorical variables\")\n",
        "    \n",
        "if p_value<=alpha:\n",
        "    print(\"Reject H0,There is a relationship between 2 categorical variables\")\n",
        "else:\n",
        "    print(\"Retain H0,There is no relationship between 2 categorical variables\")"
      ],
      "execution_count": 127,
      "outputs": [
        {
          "output_type": "stream",
          "name": "stdout",
          "text": [
            "contingency_table :-\n",
            " Like Shopping?  No  Yes\n",
            "Gender                 \n",
            "Female           2    3\n",
            "Male             2    2\n",
            "Observed Values :-\n",
            " [[2 3]\n",
            " [2 2]]\n",
            "Expected Values :-\n",
            " [[2.22222222 2.77777778]\n",
            " [1.77777778 2.22222222]]\n",
            "Degree of Freedom:- 1\n",
            "chi-square statistic:- 0.09000000000000008\n",
            "critical_value: 3.841458820694124\n",
            "p-value: 0.7641771556220945\n",
            "Significance level:  0.05\n",
            "Degree of Freedom:  1\n",
            "chi-square statistic: 0.09000000000000008\n",
            "critical_value: 3.841458820694124\n",
            "p-value: 0.7641771556220945\n",
            "Retain H0,There is no relationship between 2 categorical variables\n",
            "Retain H0,There is no relationship between 2 categorical variables\n"
          ]
        }
      ]
    },
    {
      "cell_type": "code",
      "metadata": {
        "id": "w0b0uNBsets3"
      },
      "source": [
        ""
      ],
      "execution_count": null,
      "outputs": []
    }
  ]
}