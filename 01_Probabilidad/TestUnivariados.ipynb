{
  "nbformat": 4,
  "nbformat_minor": 0,
  "metadata": {
    "colab": {
      "name": "TestUnivariados.ipynb",
      "provenance": [],
      "collapsed_sections": []
    },
    "kernelspec": {
      "name": "python3",
      "display_name": "Python 3"
    }
  },
  "cells": [
    {
      "cell_type": "markdown",
      "metadata": {
        "id": "YUwshuTTRRuc",
        "colab_type": "text"
      },
      "source": [
        "# Test Univariados"
      ]
    },
    {
      "cell_type": "markdown",
      "metadata": {
        "id": "_ZWjtKBrVnNV",
        "colab_type": "text"
      },
      "source": [
        "A continuacion se presentan algunos ejemplos de test Univariados. Basados en los notebooks [link1](https://towardsdatascience.com/hypothesis-testing-in-machine-learning-using-python-a0dc89e169ce) y [link2](https://github.com/edbullen/Hypothesis)."
      ]
    },
    {
      "cell_type": "markdown",
      "metadata": {
        "id": "-_FW95sr8LcQ",
        "colab_type": "text"
      },
      "source": [
        "## Z-test"
      ]
    },
    {
      "cell_type": "code",
      "metadata": {
        "id": "7dLz62018pGI",
        "colab_type": "code",
        "colab": {
          "base_uri": "https://localhost:8080/",
          "height": 224
        },
        "outputId": "0c5a087a-198c-4855-a87e-6cb78eef4b53"
      },
      "source": [
        "!wget \"https://raw.githubusercontent.com/yug95/MachineLearning/master/Hypothesis testing/blood_pressure.csv\""
      ],
      "execution_count": 1,
      "outputs": [
        {
          "output_type": "stream",
          "text": [
            "--2020-03-09 22:30:37--  https://raw.githubusercontent.com/yug95/MachineLearning/master/Hypothesis%20testing/blood_pressure.csv\n",
            "Resolving raw.githubusercontent.com (raw.githubusercontent.com)... 151.101.0.133, 151.101.64.133, 151.101.128.133, ...\n",
            "Connecting to raw.githubusercontent.com (raw.githubusercontent.com)|151.101.0.133|:443... connected.\n",
            "HTTP request sent, awaiting response... 200 OK\n",
            "Length: 2851 (2.8K) [text/plain]\n",
            "Saving to: ‘blood_pressure.csv.5’\n",
            "\n",
            "\rblood_pressure.csv.   0%[                    ]       0  --.-KB/s               \rblood_pressure.csv. 100%[===================>]   2.78K  --.-KB/s    in 0s      \n",
            "\n",
            "2020-03-09 22:30:37 (70.1 MB/s) - ‘blood_pressure.csv.5’ saved [2851/2851]\n",
            "\n"
          ],
          "name": "stdout"
        }
      ]
    },
    {
      "cell_type": "code",
      "metadata": {
        "id": "mf1mLAun8Kl7",
        "colab_type": "code",
        "colab": {
          "base_uri": "https://localhost:8080/",
          "height": 51
        },
        "outputId": "ee8677d3-68a1-4c8d-d675-8de4b1faf10c"
      },
      "source": [
        "import pandas as pd\n",
        "from scipy import stats\n",
        "from statsmodels.stats import weightstats as stests\n",
        "\n",
        "df = pd.read_csv(\"blood_pressure.csv\")\n",
        "ztest, pval = stests.ztest(df['bp_before'], x2=None, value=156)\n",
        "print(float(pval))\n",
        "if pval<0.05: # Es menor a 5%\n",
        "    print(\"Rechazar hipotesis nula\")\n",
        "else:\n",
        "    print(\"Aceptar hipotesis nula\")"
      ],
      "execution_count": 2,
      "outputs": [
        {
          "output_type": "stream",
          "text": [
            "0.6651614730255063\n",
            "Aceptar hipotesis nula\n"
          ],
          "name": "stdout"
        }
      ]
    },
    {
      "cell_type": "markdown",
      "metadata": {
        "id": "2JnEiQJg9Dgr",
        "colab_type": "text"
      },
      "source": [
        "### Z-test de 2 muestras"
      ]
    },
    {
      "cell_type": "markdown",
      "metadata": {
        "id": "ZudHAO7yYEkw",
        "colab_type": "text"
      },
      "source": [
        "En este caso verficamos si la media muestral de dos grupos es igual o no."
      ]
    },
    {
      "cell_type": "code",
      "metadata": {
        "id": "DEwJa_569GcQ",
        "colab_type": "code",
        "colab": {
          "base_uri": "https://localhost:8080/",
          "height": 51
        },
        "outputId": "9a2a92e0-98ad-4f58-cccf-6a1f06d095b3"
      },
      "source": [
        "ztest ,pval1 = stests.ztest(df['bp_before'], x2=df['bp_after'], value=0,alternative='two-sided')\n",
        "print(float(pval1))\n",
        "if pval<0.05:\n",
        "    print(\"Rechazar hipotesis nula\")\n",
        "else:\n",
        "    print(\"Aceptar hipotesis nula\")"
      ],
      "execution_count": 3,
      "outputs": [
        {
          "output_type": "stream",
          "text": [
            "0.002162306611369422\n",
            "Aceptar hipotesis nula\n"
          ],
          "name": "stdout"
        }
      ]
    },
    {
      "cell_type": "markdown",
      "metadata": {
        "id": "m0PJaaGsRUmk",
        "colab_type": "text"
      },
      "source": [
        "## T-test"
      ]
    },
    {
      "cell_type": "markdown",
      "metadata": {
        "id": "wSzQnWdVReJC",
        "colab_type": "text"
      },
      "source": [
        "### De una muestra"
      ]
    },
    {
      "cell_type": "code",
      "metadata": {
        "id": "fqQWlyPBGUMp",
        "colab_type": "code",
        "colab": {
          "base_uri": "https://localhost:8080/",
          "height": 204
        },
        "outputId": "71c9af6f-5ed6-4163-f262-c10e490506d8"
      },
      "source": [
        "!wget https://raw.githubusercontent.com/edbullen/Hypothesis/master/ages.csv"
      ],
      "execution_count": 4,
      "outputs": [
        {
          "output_type": "stream",
          "text": [
            "--2020-03-09 22:30:38--  https://raw.githubusercontent.com/edbullen/Hypothesis/master/ages.csv\n",
            "Resolving raw.githubusercontent.com (raw.githubusercontent.com)... 151.101.0.133, 151.101.64.133, 151.101.128.133, ...\n",
            "Connecting to raw.githubusercontent.com (raw.githubusercontent.com)|151.101.0.133|:443... connected.\n",
            "HTTP request sent, awaiting response... 200 OK\n",
            "Length: 42 [text/plain]\n",
            "Saving to: ‘ages.csv.4’\n",
            "\n",
            "\rages.csv.4            0%[                    ]       0  --.-KB/s               \rages.csv.4          100%[===================>]      42  --.-KB/s    in 0s      \n",
            "\n",
            "2020-03-09 22:30:38 (7.35 MB/s) - ‘ages.csv.4’ saved [42/42]\n",
            "\n"
          ],
          "name": "stdout"
        }
      ]
    },
    {
      "cell_type": "code",
      "metadata": {
        "id": "SFqBn_uoRQ-y",
        "colab_type": "code",
        "outputId": "287495c6-c59d-4ea2-86fc-55dbc0778619",
        "colab": {
          "base_uri": "https://localhost:8080/",
          "height": 68
        }
      },
      "source": [
        "from scipy.stats import ttest_1samp\n",
        "import numpy as np\n",
        "\n",
        "ages = np.genfromtxt(\"ages.csv\",  delimiter=\",\")\n",
        "#ages = np.random.randint(25,35,10)\n",
        "#ages = 30.5 + np.sqrt(10.0)*np.random.randn(10,1)\n",
        "\n",
        "ages_mean = np.mean(ages)\n",
        "print(ages_mean)\n",
        "\n",
        "tset, pval = ttest_1samp(ages, 30)\n",
        "print(\"p-values\",pval)\n",
        "if pval < 0.05:    # valor de alpha 0.05 o 5%\n",
        "   print(\"Se rechaza la hipotesis nula\")\n",
        "else:\n",
        "  print(\"Se acepta la hipotesis nula\")"
      ],
      "execution_count": 5,
      "outputs": [
        {
          "output_type": "stream",
          "text": [
            "31.0\n",
            "p-values 0.5605155888171379\n",
            "Se acepta la hipotesis nula\n"
          ],
          "name": "stdout"
        }
      ]
    },
    {
      "cell_type": "markdown",
      "metadata": {
        "id": "XCNTW-PsCIZi",
        "colab_type": "text"
      },
      "source": [
        "### De dos muestras"
      ]
    },
    {
      "cell_type": "markdown",
      "metadata": {
        "id": "pH0q6BQrP1MV",
        "colab_type": "text"
      },
      "source": [
        "Suponga que la semana pasada, la cantidad promedio de tiempo utilizado por visita en un pagina web fue de 25 min. \n",
        "Esta semana, el promedio empleado por visitante a la pagina web fue de 28 min. Cambió la media de tiempo utilizada por cada visitante? O es parte de las fluctuaciones naturales?"
      ]
    },
    {
      "cell_type": "code",
      "metadata": {
        "id": "ZPlxCzDlFpUY",
        "colab_type": "code",
        "colab": {
          "base_uri": "https://localhost:8080/",
          "height": 391
        },
        "outputId": "00633e90-f093-4c14-94b4-9a81694453c1"
      },
      "source": [
        "!wget https://raw.githubusercontent.com/edbullen/Hypothesis/master/week1.csv\n",
        "!wget https://raw.githubusercontent.com/edbullen/Hypothesis/master/week2.csv"
      ],
      "execution_count": 6,
      "outputs": [
        {
          "output_type": "stream",
          "text": [
            "--2020-03-09 22:30:39--  https://raw.githubusercontent.com/edbullen/Hypothesis/master/week1.csv\n",
            "Resolving raw.githubusercontent.com (raw.githubusercontent.com)... 151.101.0.133, 151.101.64.133, 151.101.128.133, ...\n",
            "Connecting to raw.githubusercontent.com (raw.githubusercontent.com)|151.101.0.133|:443... connected.\n",
            "HTTP request sent, awaiting response... 200 OK\n",
            "Length: 596 [text/plain]\n",
            "Saving to: ‘week1.csv.4’\n",
            "\n",
            "\rweek1.csv.4           0%[                    ]       0  --.-KB/s               \rweek1.csv.4         100%[===================>]     596  --.-KB/s    in 0s      \n",
            "\n",
            "2020-03-09 22:30:39 (203 MB/s) - ‘week1.csv.4’ saved [596/596]\n",
            "\n",
            "--2020-03-09 22:30:40--  https://raw.githubusercontent.com/edbullen/Hypothesis/master/week2.csv\n",
            "Resolving raw.githubusercontent.com (raw.githubusercontent.com)... 151.101.0.133, 151.101.64.133, 151.101.128.133, ...\n",
            "Connecting to raw.githubusercontent.com (raw.githubusercontent.com)|151.101.0.133|:443... connected.\n",
            "HTTP request sent, awaiting response... 200 OK\n",
            "Length: 594 [text/plain]\n",
            "Saving to: ‘week2.csv.4’\n",
            "\n",
            "week2.csv.4         100%[===================>]     594  --.-KB/s    in 0s      \n",
            "\n",
            "2020-03-09 22:30:40 (128 MB/s) - ‘week2.csv.4’ saved [594/594]\n",
            "\n"
          ],
          "name": "stdout"
        }
      ]
    },
    {
      "cell_type": "code",
      "metadata": {
        "id": "IHlB2ILnPqLB",
        "colab_type": "code",
        "colab": {
          "base_uri": "https://localhost:8080/",
          "height": 265
        },
        "outputId": "8cf618df-61f4-4eeb-babb-0d59d0438daf"
      },
      "source": [
        "import numpy as np\n",
        "import matplotlib.pyplot as plt\n",
        "\n",
        "week1 = np.genfromtxt(\"week1.csv\",  delimiter=\",\")\n",
        "week2 = np.genfromtxt(\"week2.csv\",  delimiter=\",\")\n",
        "\n",
        "plt.hist(week1, bins=20, color='b', alpha=0.5)\n",
        "plt.hist(week2, bins=20, color='r', alpha=0.5)\n",
        "plt.show()"
      ],
      "execution_count": 7,
      "outputs": [
        {
          "output_type": "display_data",
          "data": {
            "image/png": "[encoded data removed]",
            "text/plain": [
              "<Figure size 432x288 with 1 Axes>"
            ]
          },
          "metadata": {
            "tags": []
          }
        }
      ]
    },
    {
      "cell_type": "code",
      "metadata": {
        "id": "3f3BBHp3xLnx",
        "colab_type": "code",
        "colab": {
          "base_uri": "https://localhost:8080/",
          "height": 493
        },
        "outputId": "97eda534-fb6a-4442-acf5-470750024d3e"
      },
      "source": [
        "from scipy.stats import ttest_ind\n",
        "\n",
        "print(\"week1 data :-\\n\")\n",
        "print(week1)\n",
        "print(\"week2 data :-\\n\")\n",
        "print(week2)\n",
        "\n",
        "week1_mean = np.mean(week1)\n",
        "week2_mean = np.mean(week2)\n",
        "\n",
        "print(\"week1 mean value:\",week1_mean)\n",
        "print(\"week2 mean value:\",week2_mean)\n",
        "\n",
        "week1_std = np.std(week1)\n",
        "week2_std = np.std(week2)\n",
        "\n",
        "print(\"week1 std value:\",week1_std)\n",
        "print(\"week2 std value:\",week2_std)\n",
        "\n",
        "ttest,pval = ttest_ind(week1, week2)\n",
        "print(\"p-value\",pval)\n",
        "if pval <0.05:\n",
        "  print(\"Rechazar hipotesis nula\")\n",
        "else:\n",
        "  print(\"Aceptar hipotesis nula\")"
      ],
      "execution_count": 8,
      "outputs": [
        {
          "output_type": "stream",
          "text": [
            "week1 data :-\n",
            "\n",
            "[23.90506824 26.67631982 27.27433886 24.25757125 32.40423483 39.56919357\n",
            " 23.07010059 29.82068109 27.59433809 28.05639569 27.06757262 30.41192979\n",
            " 25.71358554 24.94294823 28.23123807 24.95337555 18.51231639 27.46234762\n",
            " 28.38016611 13.91205901 29.02615866 26.90746774 22.8677726  24.8938289\n",
            " 25.96947935 26.86869621 20.72676456 27.35988314 20.68408581 21.19846143\n",
            " 16.25800931 23.92517681 24.47923229 29.47050863 27.28425372 26.93339272\n",
            " 28.61026924 18.88377042 33.65468651 25.69470077 20.98291356 22.69700387\n",
            " 28.60278855 21.36000443 30.77685156 20.83415999 23.79367158 19.7556718\n",
            " 29.54421084 20.1433138 ]\n",
            "week2 data :-\n",
            "\n",
            "[18.63431907 31.28788036 34.96797943 21.81678117 28.21619974 39.39313736\n",
            " 35.52223207 27.54222109 33.64395433 25.31673581 28.81392191 30.7358016\n",
            " 26.37241881 26.0945555  26.34073477 19.42196017 32.58797652 24.84001926\n",
            " 28.93348335 20.43667584 22.72495967 32.31728012 35.384306   29.66709637\n",
            " 24.53512973 30.91406007 19.56117513 24.90816833 30.13163726 31.47466199\n",
            " 27.77683598 16.51307462 35.0770162  31.74818107 36.36053496 27.70500593\n",
            " 29.49869936 27.65575346 37.18504075 25.16055104 29.26553553 38.22163057\n",
            " 28.92102091 24.8215439  38.30155495 34.76020645 22.26869162 28.82593733\n",
            " 32.00975127 36.46437665]\n",
            "week1 mean value: 25.4480593952\n",
            "week2 mean value: 29.0215681076\n",
            "week1 std value: 4.531693386680561\n",
            "week2 std value: 5.497966708987187\n",
            "p-value 0.000676767690454633\n",
            "Rechazar hipotesis nula\n"
          ],
          "name": "stdout"
        }
      ]
    },
    {
      "cell_type": "markdown",
      "metadata": {
        "id": "QQS3FmEAWvlR",
        "colab_type": "text"
      },
      "source": [
        "### Paired sampled t-test"
      ]
    },
    {
      "cell_type": "markdown",
      "metadata": {
        "id": "ilwZvj6FXNmA",
        "colab_type": "text"
      },
      "source": [
        "H0 : la diferencia entre 2 muestras es 0 <br>\n",
        "H1: la diferencia entre 2 muestras no es 0"
      ]
    },
    {
      "cell_type": "markdown",
      "metadata": {
        "id": "-1QBJ6F9XpV5",
        "colab_type": "text"
      },
      "source": [
        "En este ejemplo se busca verificar si la presion arterial cambia entre antes de un procedimiento o despues del mismo."
      ]
    },
    {
      "cell_type": "code",
      "metadata": {
        "id": "Yp7APAw8xNpR",
        "colab_type": "code",
        "colab": {
          "base_uri": "https://localhost:8080/",
          "height": 51
        },
        "outputId": "00db5a5e-f89f-4741-f943-0af71811cafb"
      },
      "source": [
        "import pandas as pd\n",
        "from scipy import stats\n",
        "df = pd.read_csv(\"blood_pressure.csv\")\n",
        "df[['bp_before','bp_after']].describe()\n",
        "ttest,pval = stats.ttest_rel(df['bp_before'], df['bp_after'])\n",
        "print(pval)\n",
        "if pval <0.05:\n",
        "  print(\"Rechazar hipotesis nula\")\n",
        "else:\n",
        "  print(\"Aceptar hipotesis nula\")"
      ],
      "execution_count": 9,
      "outputs": [
        {
          "output_type": "stream",
          "text": [
            "0.0011297914644840823\n",
            "Rechazar hipotesis nula\n"
          ],
          "name": "stdout"
        }
      ]
    },
    {
      "cell_type": "markdown",
      "metadata": {
        "id": "jGXKtVMyZqfv",
        "colab_type": "text"
      },
      "source": [
        "## F-test"
      ]
    },
    {
      "cell_type": "markdown",
      "metadata": {
        "id": "mUX5dQJvZ9Z4",
        "colab_type": "text"
      },
      "source": [
        "### One way"
      ]
    },
    {
      "cell_type": "markdown",
      "metadata": {
        "id": "H7minRy4alkg",
        "colab_type": "text"
      },
      "source": [
        "Para este ejemplo existe 3 diferentes categorias de plantas y su peso. Se require verificar que los 3 grupos son similares o no."
      ]
    },
    {
      "cell_type": "code",
      "metadata": {
        "id": "3rhEkjHAZuI5",
        "colab_type": "code",
        "colab": {
          "base_uri": "https://localhost:8080/",
          "height": 224
        },
        "outputId": "2cfe7e11-c218-4799-cf24-aaaed2ebe932"
      },
      "source": [
        "!wget \"https://raw.githubusercontent.com/yug95/MachineLearning/master/Hypothesis testing/PlantGrowth.csv\""
      ],
      "execution_count": 10,
      "outputs": [
        {
          "output_type": "stream",
          "text": [
            "--2020-03-09 22:30:41--  https://raw.githubusercontent.com/yug95/MachineLearning/master/Hypothesis%20testing/PlantGrowth.csv\n",
            "Resolving raw.githubusercontent.com (raw.githubusercontent.com)... 151.101.0.133, 151.101.64.133, 151.101.128.133, ...\n",
            "Connecting to raw.githubusercontent.com (raw.githubusercontent.com)|151.101.0.133|:443... connected.\n",
            "HTTP request sent, awaiting response... 200 OK\n",
            "Length: 518 [text/plain]\n",
            "Saving to: ‘PlantGrowth.csv.1’\n",
            "\n",
            "\rPlantGrowth.csv.1     0%[                    ]       0  --.-KB/s               \rPlantGrowth.csv.1   100%[===================>]     518  --.-KB/s    in 0s      \n",
            "\n",
            "2020-03-09 22:30:41 (138 MB/s) - ‘PlantGrowth.csv.1’ saved [518/518]\n",
            "\n"
          ],
          "name": "stdout"
        }
      ]
    },
    {
      "cell_type": "code",
      "metadata": {
        "id": "4v89ytqzZoks",
        "colab_type": "code",
        "colab": {
          "base_uri": "https://localhost:8080/",
          "height": 51
        },
        "outputId": "b3342297-fe18-4e42-a529-e8313611af3b"
      },
      "source": [
        "df_anova = pd.read_csv('PlantGrowth.csv')\n",
        "df_anova = df_anova[['weight','group']]\n",
        "grps = pd.unique(df_anova.group.values)\n",
        "d_data = {grp:df_anova['weight'][df_anova.group == grp] for grp in grps}\n",
        " \n",
        "F, p = stats.f_oneway(d_data['ctrl'], d_data['trt1'], d_data['trt2'])\n",
        "print(\"p-value for significance is: \", p)\n",
        "if p <0.05:\n",
        "  print(\"Rechazar hipotesis nula\")\n",
        "else:\n",
        "  print(\"Aceptar hipotesis nula\")"
      ],
      "execution_count": 11,
      "outputs": [
        {
          "output_type": "stream",
          "text": [
            "p-value for significance is:  0.0159099583256229\n",
            "Rechazar hipotesis nula\n"
          ],
          "name": "stdout"
        }
      ]
    },
    {
      "cell_type": "markdown",
      "metadata": {
        "id": "c2RvkKmDaAv4",
        "colab_type": "text"
      },
      "source": [
        "### Two ways"
      ]
    },
    {
      "cell_type": "markdown",
      "metadata": {
        "id": "Ao8fSIgCb4Ch",
        "colab_type": "text"
      },
      "source": [
        "Se analiza un campo de maiz por factores, estos factores se emplean como grupos."
      ]
    },
    {
      "cell_type": "code",
      "metadata": {
        "id": "YRKaz8A0Z5Zz",
        "colab_type": "code",
        "colab": {
          "base_uri": "https://localhost:8080/",
          "height": 204
        },
        "outputId": "42c07eb0-f9b1-415b-cf17-b3e5da4fbb4f"
      },
      "source": [
        "import statsmodels.api as sm\n",
        "from statsmodels.formula.api import ols\n",
        "\n",
        "df_anova2 = pd.read_csv(\"https://raw.githubusercontent.com/Opensourcefordatascience/Data-sets/master/crop_yield.csv\")\n",
        "\n",
        "df_anova2.head()"
      ],
      "execution_count": 13,
      "outputs": [
        {
          "output_type": "execute_result",
          "data": {
            "text/html": [
              "<div>\n",
              "<style scoped>\n",
              "    .dataframe tbody tr th:only-of-type {\n",
              "        vertical-align: middle;\n",
              "    }\n",
              "\n",
              "    .dataframe tbody tr th {\n",
              "        vertical-align: top;\n",
              "    }\n",
              "\n",
              "    .dataframe thead th {\n",
              "        text-align: right;\n",
              "    }\n",
              "</style>\n",
              "<table border=\"1\" class=\"dataframe\">\n",
              "  <thead>\n",
              "    <tr style=\"text-align: right;\">\n",
              "      <th></th>\n",
              "      <th>Fert</th>\n",
              "      <th>Water</th>\n",
              "      <th>Yield</th>\n",
              "    </tr>\n",
              "  </thead>\n",
              "  <tbody>\n",
              "    <tr>\n",
              "      <th>0</th>\n",
              "      <td>A</td>\n",
              "      <td>High</td>\n",
              "      <td>27.4</td>\n",
              "    </tr>\n",
              "    <tr>\n",
              "      <th>1</th>\n",
              "      <td>A</td>\n",
              "      <td>High</td>\n",
              "      <td>33.6</td>\n",
              "    </tr>\n",
              "    <tr>\n",
              "      <th>2</th>\n",
              "      <td>A</td>\n",
              "      <td>High</td>\n",
              "      <td>29.8</td>\n",
              "    </tr>\n",
              "    <tr>\n",
              "      <th>3</th>\n",
              "      <td>A</td>\n",
              "      <td>High</td>\n",
              "      <td>35.2</td>\n",
              "    </tr>\n",
              "    <tr>\n",
              "      <th>4</th>\n",
              "      <td>A</td>\n",
              "      <td>High</td>\n",
              "      <td>33.0</td>\n",
              "    </tr>\n",
              "  </tbody>\n",
              "</table>\n",
              "</div>"
            ],
            "text/plain": [
              "  Fert Water  Yield\n",
              "0    A  High   27.4\n",
              "1    A  High   33.6\n",
              "2    A  High   29.8\n",
              "3    A  High   35.2\n",
              "4    A  High   33.0"
            ]
          },
          "metadata": {
            "tags": []
          },
          "execution_count": 13
        }
      ]
    },
    {
      "cell_type": "code",
      "metadata": {
        "id": "FqCJyxzGcXGY",
        "colab_type": "code",
        "colab": {
          "base_uri": "https://localhost:8080/",
          "height": 190
        },
        "outputId": "5400ac2b-2b0b-4c83-96a9-a4814a245541"
      },
      "source": [
        "model = ols('Yield ~ C(Fert)*C(Water)', df_anova2).fit()\n",
        "\n",
        "print(f\"Overall model F({model.df_model: .0f},{model.df_resid: .0f}) = {model.fvalue: .3f}, p = {model.f_pvalue: .4f}\")\n",
        "res = sm.stats.anova_lm(model, typ= 2)\n",
        "res"
      ],
      "execution_count": 14,
      "outputs": [
        {
          "output_type": "stream",
          "text": [
            "Overall model F( 3, 16) =  4.112, p =  0.0243\n"
          ],
          "name": "stdout"
        },
        {
          "output_type": "execute_result",
          "data": {
            "text/html": [
              "<div>\n",
              "<style scoped>\n",
              "    .dataframe tbody tr th:only-of-type {\n",
              "        vertical-align: middle;\n",
              "    }\n",
              "\n",
              "    .dataframe tbody tr th {\n",
              "        vertical-align: top;\n",
              "    }\n",
              "\n",
              "    .dataframe thead th {\n",
              "        text-align: right;\n",
              "    }\n",
              "</style>\n",
              "<table border=\"1\" class=\"dataframe\">\n",
              "  <thead>\n",
              "    <tr style=\"text-align: right;\">\n",
              "      <th></th>\n",
              "      <th>sum_sq</th>\n",
              "      <th>df</th>\n",
              "      <th>F</th>\n",
              "      <th>PR(&gt;F)</th>\n",
              "    </tr>\n",
              "  </thead>\n",
              "  <tbody>\n",
              "    <tr>\n",
              "      <th>C(Fert)</th>\n",
              "      <td>69.192</td>\n",
              "      <td>1.0</td>\n",
              "      <td>5.766000</td>\n",
              "      <td>0.028847</td>\n",
              "    </tr>\n",
              "    <tr>\n",
              "      <th>C(Water)</th>\n",
              "      <td>63.368</td>\n",
              "      <td>1.0</td>\n",
              "      <td>5.280667</td>\n",
              "      <td>0.035386</td>\n",
              "    </tr>\n",
              "    <tr>\n",
              "      <th>C(Fert):C(Water)</th>\n",
              "      <td>15.488</td>\n",
              "      <td>1.0</td>\n",
              "      <td>1.290667</td>\n",
              "      <td>0.272656</td>\n",
              "    </tr>\n",
              "    <tr>\n",
              "      <th>Residual</th>\n",
              "      <td>192.000</td>\n",
              "      <td>16.0</td>\n",
              "      <td>NaN</td>\n",
              "      <td>NaN</td>\n",
              "    </tr>\n",
              "  </tbody>\n",
              "</table>\n",
              "</div>"
            ],
            "text/plain": [
              "                   sum_sq    df         F    PR(>F)\n",
              "C(Fert)            69.192   1.0  5.766000  0.028847\n",
              "C(Water)           63.368   1.0  5.280667  0.035386\n",
              "C(Fert):C(Water)   15.488   1.0  1.290667  0.272656\n",
              "Residual          192.000  16.0       NaN       NaN"
            ]
          },
          "metadata": {
            "tags": []
          },
          "execution_count": 14
        }
      ]
    },
    {
      "cell_type": "markdown",
      "metadata": {
        "id": "lqRPCxQXbtDz",
        "colab_type": "text"
      },
      "source": [
        "## Chi-square test"
      ]
    },
    {
      "cell_type": "markdown",
      "metadata": {
        "id": "hQOaed-ogVcz",
        "colab_type": "text"
      },
      "source": [
        ""
      ]
    },
    {
      "cell_type": "markdown",
      "metadata": {
        "id": "5P9536brfxPW",
        "colab_type": "text"
      },
      "source": [
        "Por ejemplo, en el resumen de una votacion, los votantes pueden ser clasificados por genero (hombre o mujer) y su preferencia (Democrata, Republicano, o Independiente). Se puede usar Chi-square para determinar si el genero esta relacionado con la preferencia de voto."
      ]
    },
    {
      "cell_type": "code",
      "metadata": {
        "id": "73NFU4WMez8T",
        "colab_type": "code",
        "colab": {
          "base_uri": "https://localhost:8080/",
          "height": 204
        },
        "outputId": "34158e7e-21b3-4cc3-aaee-1cfcac27acbb"
      },
      "source": [
        "!wget https://raw.githubusercontent.com/yug95/MachineLearning/master/Hypothesis%20testing/chi-test.csv"
      ],
      "execution_count": 16,
      "outputs": [
        {
          "output_type": "stream",
          "text": [
            "--2020-03-09 22:47:31--  https://raw.githubusercontent.com/yug95/MachineLearning/master/Hypothesis%20testing/chi-test.csv\n",
            "Resolving raw.githubusercontent.com (raw.githubusercontent.com)... 151.101.0.133, 151.101.64.133, 151.101.128.133, ...\n",
            "Connecting to raw.githubusercontent.com (raw.githubusercontent.com)|151.101.0.133|:443... connected.\n",
            "HTTP request sent, awaiting response... 200 OK\n",
            "Length: 109 [text/plain]\n",
            "Saving to: ‘chi-test.csv’\n",
            "\n",
            "\rchi-test.csv          0%[                    ]       0  --.-KB/s               \rchi-test.csv        100%[===================>]     109  --.-KB/s    in 0.001s  \n",
            "\n",
            "2020-03-09 22:47:32 (192 KB/s) - ‘chi-test.csv’ saved [109/109]\n",
            "\n"
          ],
          "name": "stdout"
        }
      ]
    },
    {
      "cell_type": "code",
      "metadata": {
        "id": "oM1TYBcBfK-1",
        "colab_type": "code",
        "colab": {
          "base_uri": "https://localhost:8080/",
          "height": 204
        },
        "outputId": "4fd405d2-90da-4952-dfda-73baa2b479b6"
      },
      "source": [
        "df_chi = pd.read_csv('chi-test.csv')\n",
        "df_chi.head()"
      ],
      "execution_count": 20,
      "outputs": [
        {
          "output_type": "execute_result",
          "data": {
            "text/html": [
              "<div>\n",
              "<style scoped>\n",
              "    .dataframe tbody tr th:only-of-type {\n",
              "        vertical-align: middle;\n",
              "    }\n",
              "\n",
              "    .dataframe tbody tr th {\n",
              "        vertical-align: top;\n",
              "    }\n",
              "\n",
              "    .dataframe thead th {\n",
              "        text-align: right;\n",
              "    }\n",
              "</style>\n",
              "<table border=\"1\" class=\"dataframe\">\n",
              "  <thead>\n",
              "    <tr style=\"text-align: right;\">\n",
              "      <th></th>\n",
              "      <th>Gender</th>\n",
              "      <th>Like Shopping?</th>\n",
              "    </tr>\n",
              "  </thead>\n",
              "  <tbody>\n",
              "    <tr>\n",
              "      <th>0</th>\n",
              "      <td>Male</td>\n",
              "      <td>No</td>\n",
              "    </tr>\n",
              "    <tr>\n",
              "      <th>1</th>\n",
              "      <td>Female</td>\n",
              "      <td>Yes</td>\n",
              "    </tr>\n",
              "    <tr>\n",
              "      <th>2</th>\n",
              "      <td>Male</td>\n",
              "      <td>Yes</td>\n",
              "    </tr>\n",
              "    <tr>\n",
              "      <th>3</th>\n",
              "      <td>Female</td>\n",
              "      <td>Yes</td>\n",
              "    </tr>\n",
              "    <tr>\n",
              "      <th>4</th>\n",
              "      <td>Female</td>\n",
              "      <td>Yes</td>\n",
              "    </tr>\n",
              "  </tbody>\n",
              "</table>\n",
              "</div>"
            ],
            "text/plain": [
              "   Gender Like Shopping?\n",
              "0    Male             No\n",
              "1  Female            Yes\n",
              "2    Male            Yes\n",
              "3  Female            Yes\n",
              "4  Female            Yes"
            ]
          },
          "metadata": {
            "tags": []
          },
          "execution_count": 20
        }
      ]
    },
    {
      "cell_type": "code",
      "metadata": {
        "id": "xx5qhHwCbvaL",
        "colab_type": "code",
        "colab": {
          "base_uri": "https://localhost:8080/",
          "height": 391
        },
        "outputId": "7cb685f9-ecdf-471f-818e-432cc582ec17"
      },
      "source": [
        "contingency_table=pd.crosstab(df_chi[\"Gender\"],df_chi['Like Shopping?'])\n",
        "print('contingency_table :-\\n',contingency_table)\n",
        "\n",
        "#Observed Values\n",
        "Observed_Values = contingency_table.values \n",
        "print(\"Observed Values :-\\n\",Observed_Values)\n",
        "\n",
        "b=stats.chi2_contingency(contingency_table)\n",
        "Expected_Values = b[3]\n",
        "print(\"Expected Values :-\\n\",Expected_Values)\n",
        "\n",
        "no_of_rows=len(contingency_table.iloc[0:2,0])\n",
        "no_of_columns=len(contingency_table.iloc[0,0:2])\n",
        "ddof=(no_of_rows-1)*(no_of_columns-1)\n",
        "print(\"Degree of Freedom:-\",ddof)\n",
        "\n",
        "alpha = 0.05\n",
        "\n",
        "from scipy.stats import chi2\n",
        "\n",
        "chi_square=sum([(o-e)**2./e for o,e in zip(Observed_Values,Expected_Values)])\n",
        "chi_square_statistic=chi_square[0]+chi_square[1]\n",
        "print(\"chi-square statistic:-\",chi_square_statistic)\n",
        "\n",
        "critical_value=chi2.ppf(q=1-alpha,df=ddof)\n",
        "print('critical_value:',critical_value)\n",
        "\n",
        "#p-value\n",
        "p_value=1-chi2.cdf(x=chi_square_statistic,df=ddof)\n",
        "print('p-value:',p_value)\n",
        "print('Significance level: ',alpha)\n",
        "print('Degree of Freedom: ',ddof)\n",
        "print('chi-square statistic:',chi_square_statistic)\n",
        "print('critical_value:',critical_value)\n",
        "print('p-value:',p_value)\n",
        "\n",
        "if chi_square_statistic>=critical_value:\n",
        "    print(\"Reject H0,There is a relationship between 2 categorical variables\")\n",
        "else:\n",
        "    print(\"Retain H0,There is no relationship between 2 categorical variables\")\n",
        "    \n",
        "if p_value<=alpha:\n",
        "    print(\"Reject H0,There is a relationship between 2 categorical variables\")\n",
        "else:\n",
        "    print(\"Retain H0,There is no relationship between 2 categorical variables\")"
      ],
      "execution_count": 24,
      "outputs": [
        {
          "output_type": "stream",
          "text": [
            "contingency_table :-\n",
            " Like Shopping?  No  Yes\n",
            "Gender                 \n",
            "Female           2    3\n",
            "Male             2    2\n",
            "Observed Values :-\n",
            " [[2 3]\n",
            " [2 2]]\n",
            "Expected Values :-\n",
            " [[2.22222222 2.77777778]\n",
            " [1.77777778 2.22222222]]\n",
            "Degree of Freedom:- 1\n",
            "chi-square statistic:- 0.09000000000000008\n",
            "critical_value: 3.841458820694124\n",
            "p-value: 0.7641771556220945\n",
            "Significance level:  0.05\n",
            "Degree of Freedom:  1\n",
            "chi-square statistic: 0.09000000000000008\n",
            "critical_value: 3.841458820694124\n",
            "p-value: 0.7641771556220945\n",
            "Retain H0,There is no relationship between 2 categorical variables\n",
            "Retain H0,There is no relationship between 2 categorical variables\n"
          ],
          "name": "stdout"
        }
      ]
    },
    {
      "cell_type": "code",
      "metadata": {
        "id": "w0b0uNBsets3",
        "colab_type": "code",
        "colab": {}
      },
      "source": [
        ""
      ],
      "execution_count": 0,
      "outputs": []
    }
  ]
}