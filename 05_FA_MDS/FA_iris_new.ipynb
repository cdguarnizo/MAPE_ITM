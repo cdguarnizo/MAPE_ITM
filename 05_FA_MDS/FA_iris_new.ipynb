{
  "nbformat": 4,
  "nbformat_minor": 0,
  "metadata": {
    "colab": {
      "name": "FA_iris.ipynb",
      "provenance": [],
      "collapsed_sections": []
    },
    "kernelspec": {
      "name": "python3",
      "display_name": "Python 3"
    },
    "language_info": {
      "name": "python"
    }
  },
  "cells": [
    {
      "cell_type": "code",
      "metadata": {
        "id": "AanlVpvkjoZC"
      },
      "source": [
        "import sklearn\n",
        "from sklearn import datasets\n",
        "from sklearn.decomposition import PCA, FactorAnalysis\n",
        "import numpy as np\n",
        "import matplotlib.pyplot as plt"
      ],
      "execution_count": 1,
      "outputs": []
    },
    {
      "cell_type": "code",
      "metadata": {
        "id": "kxIUOgwYjqFG"
      },
      "source": [
        "iris = datasets.load_iris()\n",
        "X = iris.data  # we only take the first two features.\n",
        "y = iris.target"
      ],
      "execution_count": 2,
      "outputs": []
    },
    {
      "cell_type": "code",
      "metadata": {
        "id": "nuNn6iBkkSJW"
      },
      "source": [
        "Xc = X-np.mean(X, axis=0)"
      ],
      "execution_count": 3,
      "outputs": []
    },
    {
      "cell_type": "code",
      "metadata": {
        "id": "HFaJvbeQkAIo"
      },
      "source": [
        "S = np.cov(Xc.T)"
      ],
      "execution_count": 4,
      "outputs": []
    },
    {
      "cell_type": "code",
      "metadata": {
        "colab": {
          "base_uri": "https://localhost:8080/"
        },
        "id": "83BWTRBokNcW",
        "outputId": "062fc913-3a63-404d-d414-50e21198015f"
      },
      "source": [
        "np.corrcoef(Xc.T)"
      ],
      "execution_count": 5,
      "outputs": [
        {
          "output_type": "execute_result",
          "data": {
            "text/plain": [
              "array([[ 1.        , -0.11756978,  0.87175378,  0.81794113],\n",
              "       [-0.11756978,  1.        , -0.4284401 , -0.36612593],\n",
              "       [ 0.87175378, -0.4284401 ,  1.        ,  0.96286543],\n",
              "       [ 0.81794113, -0.36612593,  0.96286543,  1.        ]])"
            ]
          },
          "metadata": {},
          "execution_count": 5
        }
      ]
    },
    {
      "cell_type": "code",
      "metadata": {
        "id": "gTfIABNkkOLA"
      },
      "source": [
        "FactorAnalysis?"
      ],
      "execution_count": 6,
      "outputs": []
    },
    {
      "cell_type": "code",
      "metadata": {
        "id": "sBEjkM3zkjI4"
      },
      "source": [
        "U,D,_ = np.linalg.svd(S)"
      ],
      "execution_count": 7,
      "outputs": []
    },
    {
      "cell_type": "code",
      "metadata": {
        "colab": {
          "base_uri": "https://localhost:8080/"
        },
        "id": "Ci6VbkVGku7Q",
        "outputId": "83d2de80-799a-49bd-a137-62756fe4b063"
      },
      "source": [
        "U"
      ],
      "execution_count": 8,
      "outputs": [
        {
          "output_type": "execute_result",
          "data": {
            "text/plain": [
              "array([[-0.36138659, -0.65658877,  0.58202985,  0.31548719],\n",
              "       [ 0.08452251, -0.73016143, -0.59791083, -0.3197231 ],\n",
              "       [-0.85667061,  0.17337266, -0.07623608, -0.47983899],\n",
              "       [-0.3582892 ,  0.07548102, -0.54583143,  0.75365743]])"
            ]
          },
          "metadata": {},
          "execution_count": 8
        }
      ]
    },
    {
      "cell_type": "code",
      "metadata": {
        "colab": {
          "base_uri": "https://localhost:8080/"
        },
        "id": "81iWESfckwC-",
        "outputId": "e2ab23d7-915c-4af9-f263-945f24b8f07a"
      },
      "source": [
        "D"
      ],
      "execution_count": 9,
      "outputs": [
        {
          "output_type": "execute_result",
          "data": {
            "text/plain": [
              "array([4.22824171, 0.24267075, 0.0782095 , 0.02383509])"
            ]
          },
          "metadata": {},
          "execution_count": 9
        }
      ]
    },
    {
      "cell_type": "code",
      "metadata": {
        "colab": {
          "base_uri": "https://localhost:8080/"
        },
        "id": "Xd4SsBt6kxPe",
        "outputId": "7c6734e9-7410-4455-c32c-a49ee503c667"
      },
      "source": [
        "W = U@np.diag(np.sqrt(D))\n",
        "print(W)"
      ],
      "execution_count": 10,
      "outputs": [
        {
          "output_type": "stream",
          "name": "stdout",
          "text": [
            "[[-0.743108   -0.32344628  0.16277024  0.04870686]\n",
            " [ 0.17380102 -0.35968937 -0.16721151 -0.04936083]\n",
            " [-1.76154511  0.08540619 -0.02132015 -0.07408051]\n",
            " [-0.73673893  0.03718318 -0.15264701  0.11635429]]\n"
          ]
        }
      ]
    },
    {
      "cell_type": "code",
      "source": [
        "W1 = U[:,0]*np.sqrt(D[0])\n",
        "W1 = W1.reshape((4,1))\n",
        "print(W1)\n",
        "np.abs(W1@W1.T-S).sum()"
      ],
      "metadata": {
        "id": "7hJYpx2P9mIJ",
        "outputId": "21b32ff0-a6e5-428c-e471-3451d69d0b87",
        "colab": {
          "base_uri": "https://localhost:8080/"
        }
      },
      "execution_count": 11,
      "outputs": [
        {
          "output_type": "stream",
          "name": "stdout",
          "text": [
            "[[-0.743108  ]\n",
            " [ 0.17380102]\n",
            " [-1.76154511]\n",
            " [-0.73673893]]\n"
          ]
        },
        {
          "output_type": "execute_result",
          "data": {
            "text/plain": [
              "0.714158841282216"
            ]
          },
          "metadata": {},
          "execution_count": 11
        }
      ]
    },
    {
      "cell_type": "code",
      "source": [
        "W2 = U[:,1]*np.sqrt(D[1])\n",
        "W2 = W2.reshape((4,1))\n",
        "np.abs(W1@W1.T+W2@W2.T-S).sum()"
      ],
      "metadata": {
        "id": "sHY5Fbee-IsP",
        "outputId": "3de05841-92ae-4f30-ffb2-8f18cb87ea4c",
        "colab": {
          "base_uri": "https://localhost:8080/"
        }
      },
      "execution_count": 12,
      "outputs": [
        {
          "output_type": "execute_result",
          "data": {
            "text/plain": [
              "0.2785379811406326"
            ]
          },
          "metadata": {},
          "execution_count": 12
        }
      ]
    },
    {
      "cell_type": "code",
      "source": [
        "W3 = U[:,2]*np.sqrt(D[2])\n",
        "W3 = W3.reshape((4,1))\n",
        "np.abs(W1@W1.T+W2@W2.T+W3@W3.T-S).sum()"
      ],
      "metadata": {
        "id": "pJUKmVDg-8gn",
        "outputId": "93f1d7a9-7d50-42a5-d57f-1f9df36d3a46",
        "colab": {
          "base_uri": "https://localhost:8080/"
        }
      },
      "execution_count": 13,
      "outputs": [
        {
          "output_type": "execute_result",
          "data": {
            "text/plain": [
              "0.08323368831023208"
            ]
          },
          "metadata": {},
          "execution_count": 13
        }
      ]
    },
    {
      "cell_type": "code",
      "metadata": {
        "colab": {
          "base_uri": "https://localhost:8080/"
        },
        "id": "oWZ3CWWBlHan",
        "outputId": "91e9567f-c865-462b-8d16-594d22c759f7"
      },
      "source": [
        "W@W.T-S"
      ],
      "execution_count": 14,
      "outputs": [
        {
          "output_type": "execute_result",
          "data": {
            "text/plain": [
              "array([[-4.44089210e-16, -6.24500451e-17, -4.44089210e-16,\n",
              "        -2.22044605e-16],\n",
              "       [-6.24500451e-17, -1.38777878e-16,  0.00000000e+00,\n",
              "         4.16333634e-17],\n",
              "       [-4.44089210e-16,  0.00000000e+00, -8.88178420e-16,\n",
              "         0.00000000e+00],\n",
              "       [-2.22044605e-16,  4.16333634e-17,  0.00000000e+00,\n",
              "        -1.11022302e-16]])"
            ]
          },
          "metadata": {},
          "execution_count": 14
        }
      ]
    },
    {
      "cell_type": "code",
      "metadata": {
        "colab": {
          "base_uri": "https://localhost:8080/"
        },
        "id": "uX7gk5o-lUzU",
        "outputId": "d6e639e8-7c25-456a-b7ac-00fae77bdbd7"
      },
      "source": [
        "W1 = U[:,:2]@np.diag(np.sqrt(D[:2]))\n",
        "print(W1.shape)"
      ],
      "execution_count": 15,
      "outputs": [
        {
          "output_type": "stream",
          "name": "stdout",
          "text": [
            "(4, 2)\n"
          ]
        }
      ]
    },
    {
      "cell_type": "code",
      "metadata": {
        "colab": {
          "base_uri": "https://localhost:8080/"
        },
        "id": "UCVmji6Jle72",
        "outputId": "e250012a-0681-4c51-f228-c2f9c27870cb"
      },
      "source": [
        "W1@W1.T-S"
      ],
      "execution_count": 16,
      "outputs": [
        {
          "output_type": "execute_result",
          "data": {
            "text/plain": [
              "array([[-0.02886651,  0.02962127,  0.00707852,  0.01917914],\n",
              "       [ 0.02962127, -0.03039618, -0.00722165, -0.01978099],\n",
              "       [ 0.00707852, -0.00722165, -0.00594247,  0.00536513],\n",
              "       [ 0.01917914, -0.01978099,  0.00536513, -0.03683943]])"
            ]
          },
          "metadata": {},
          "execution_count": 16
        }
      ]
    },
    {
      "cell_type": "code",
      "metadata": {
        "id": "bHNxU2bMl1Vc"
      },
      "source": [
        "trans = FactorAnalysis(n_components=2, random_state=1)"
      ],
      "execution_count": 17,
      "outputs": []
    },
    {
      "cell_type": "code",
      "metadata": {
        "id": "yrqx1v7AnVKt",
        "outputId": "433598a6-80fd-4668-8328-ec08e6ad99f3",
        "colab": {
          "base_uri": "https://localhost:8080/"
        }
      },
      "source": [
        "X_t = trans.fit_transform(X)\n",
        "X_t.shape"
      ],
      "execution_count": 18,
      "outputs": [
        {
          "output_type": "execute_result",
          "data": {
            "text/plain": [
              "(150, 2)"
            ]
          },
          "metadata": {},
          "execution_count": 18
        }
      ]
    },
    {
      "cell_type": "code",
      "metadata": {
        "colab": {
          "base_uri": "https://localhost:8080/",
          "height": 283
        },
        "id": "tQ9PhAj1na8k",
        "outputId": "e73ae996-e04a-41c0-f9b1-dbf03a17cea5"
      },
      "source": [
        "plt.scatter(X_t[:,0],X_t[:,1], c=y)"
      ],
      "execution_count": 19,
      "outputs": [
        {
          "output_type": "execute_result",
          "data": {
            "text/plain": [
              "<matplotlib.collections.PathCollection at 0x7f9a46912790>"
            ]
          },
          "metadata": {},
          "execution_count": 19
        },
        {
          "output_type": "display_data",
          "data": {
            "text/plain": [
              "<Figure size 432x288 with 1 Axes>"
            ],
            "image/png": "[encoded data removed]"
          },
          "metadata": {
            "needs_background": "light"
          }
        }
      ]
    },
    {
      "cell_type": "code",
      "metadata": {
        "id": "vTnL5q08n7cL"
      },
      "source": [
        "X_t2 = Xc@W1"
      ],
      "execution_count": 20,
      "outputs": []
    },
    {
      "cell_type": "code",
      "metadata": {
        "colab": {
          "base_uri": "https://localhost:8080/"
        },
        "id": "AzcW3hMCoDcX",
        "outputId": "0274828d-beaa-43d9-dd45-97b97db54a13"
      },
      "source": [
        "X_t2"
      ],
      "execution_count": 21,
      "outputs": [
        {
          "output_type": "execute_result",
          "data": {
            "text/plain": [
              "array([[ 5.51928399e+00, -1.57340267e-01],\n",
              "       [ 5.58100509e+00,  8.71936758e-02],\n",
              "       [ 5.94054140e+00,  7.14044395e-02],\n",
              "       [ 5.64516308e+00,  1.56799242e-01],\n",
              "       [ 5.61097490e+00, -1.60964576e-01],\n",
              "       [ 4.69006068e+00, -3.65191409e-01],\n",
              "       [ 5.79978400e+00,  4.40701298e-02],\n",
              "       [ 5.40006018e+00, -8.04860825e-02],\n",
              "       [ 5.93517899e+00,  2.84885755e-01],\n",
              "       [ 5.49590457e+00,  5.60470398e-02],\n",
              "       [ 5.15495729e+00, -3.17771408e-01],\n",
              "       [ 5.37252727e+00, -7.25620707e-03],\n",
              "       [ 5.72898978e+00,  1.15819987e-01],\n",
              "       [ 6.62900731e+00,  2.51921272e-01],\n",
              "       [ 5.43831792e+00, -5.80678589e-01],\n",
              "       [ 4.90633781e+00, -6.59151218e-01],\n",
              "       [ 5.39467873e+00, -3.99353884e-01],\n",
              "       [ 5.44561010e+00, -1.53621949e-01],\n",
              "       [ 4.52342207e+00, -4.29974675e-01],\n",
              "       [ 5.32159590e+00, -2.52988142e-01],\n",
              "       [ 4.75050796e+00, -1.92783359e-01],\n",
              "       [ 5.23054190e+00, -2.13300887e-01],\n",
              "       [ 6.61283614e+00, -6.57485370e-02],\n",
              "       [ 4.73503858e+00, -4.86255837e-02],\n",
              "       [ 4.84406374e+00,  1.83656491e-02],\n",
              "       [ 5.15438527e+00,  7.19302849e-02],\n",
              "       [ 5.07655789e+00, -6.45088288e-02],\n",
              "       [ 5.26881868e+00, -1.81144276e-01],\n",
              "       [ 5.42759309e+00, -1.53715958e-01],\n",
              "       [ 5.41207787e+00,  9.70262957e-02],\n",
              "       [ 5.32038697e+00,  1.00650604e-01],\n",
              "       [ 4.95546920e+00, -2.02427961e-01],\n",
              "       [ 5.44677318e+00, -4.00676217e-01],\n",
              "       [ 5.34370150e+00, -5.38501340e-01],\n",
              "       [ 5.42223068e+00,  5.97653574e-02],\n",
              "       [ 5.89376351e+00, -3.41700643e-02],\n",
              "       [ 5.39819530e+00, -2.95259399e-01],\n",
              "       [ 5.75895959e+00, -1.32338265e-01],\n",
              "       [ 6.12871360e+00,  2.40376199e-01],\n",
              "       [ 5.32574938e+00, -1.12830711e-01],\n",
              "       [ 5.69607541e+00, -1.29817940e-01],\n",
              "       [ 5.85906820e+00,  4.63532448e-01],\n",
              "       [ 6.16347380e+00,  1.68438325e-01],\n",
              "       [ 4.94659020e+00, -9.30411309e-02],\n",
              "       [ 4.54330396e+00, -2.15107350e-01],\n",
              "       [ 5.58164199e+00,  1.23256622e-01],\n",
              "       [ 5.21911528e+00, -2.48165841e-01],\n",
              "       [ 5.83869769e+00,  1.12289687e-01],\n",
              "       [ 5.22926809e+00, -2.85426779e-01],\n",
              "       [ 5.55883459e+00, -5.30577641e-02],\n",
              "       [-2.64194708e+00, -3.37521166e-01],\n",
              "       [-1.91744715e+00, -1.56816316e-01],\n",
              "       [-3.01099930e+00, -2.48408046e-01],\n",
              "       [-3.76950523e-01,  4.07866045e-01],\n",
              "       [-2.23743287e+00, -3.67445770e-02],\n",
              "       [-1.31944417e+00,  2.06035196e-01],\n",
              "       [-2.25173916e+00, -1.39641070e-01],\n",
              "       [ 1.54039763e+00,  4.95025595e-01],\n",
              "       [-2.14701578e+00, -1.12494778e-01],\n",
              "       [ 1.79829023e-02,  3.56201880e-01],\n",
              "       [ 1.04425741e+00,  6.23637952e-01],\n",
              "       [-1.05218982e+00,  5.12228440e-02],\n",
              "       [-5.44862948e-01,  2.70956888e-01],\n",
              "       [-2.02529018e+00,  6.14873005e-02],\n",
              "       [ 3.57637329e-01,  1.25545319e-01],\n",
              "       [-1.90793125e+00, -2.30140200e-01],\n",
              "       [-1.35772095e+00,  1.73878585e-01],\n",
              "       [-4.85495350e-01,  1.64342078e-01],\n",
              "       [-1.94262656e+00,  2.67562312e-01],\n",
              "       [-9.29988239e-02,  2.87606289e-01],\n",
              "       [-2.29537836e+00,  4.16836345e-02],\n",
              "       [-7.35914816e-01,  3.39535891e-02],\n",
              "       [-2.66941510e+00,  1.61473347e-01],\n",
              "       [-1.89532250e+00,  9.00196026e-02],\n",
              "       [-1.46993065e+00, -7.34273771e-02],\n",
              "       [-1.85100055e+00, -1.61826635e-01],\n",
              "       [-2.73900040e+00, -1.20415542e-01],\n",
              "       [-3.20326009e+00, -1.31772598e-01],\n",
              "       [-1.67234425e+00,  8.04690089e-02],\n",
              "       [ 6.28362413e-01,  1.81411931e-01],\n",
              "       [ 1.40086386e-01,  3.47379236e-01],\n",
              "       [ 3.89914789e-01,  3.35120299e-01],\n",
              "       [-2.80534114e-01,  1.54697475e-01],\n",
              "       [-2.83770541e+00,  2.07368913e-01],\n",
              "       [-1.20909935e+00,  2.38567842e-01],\n",
              "       [-1.65911764e+00, -9.56573594e-02],\n",
              "       [-2.51006867e+00, -2.00800027e-01],\n",
              "       [-1.67605497e+00,  1.83271493e-01],\n",
              "       [-5.05755123e-01,  1.32279475e-01],\n",
              "       [-3.42190320e-01,  3.35928171e-01],\n",
              "       [-9.55754368e-01,  3.30403391e-01],\n",
              "       [-1.83175557e+00,  1.69777446e-02],\n",
              "       [-4.74068726e-01,  1.99207031e-01],\n",
              "       [ 1.44870673e+00,  4.98649903e-01],\n",
              "       [-7.34049938e-01,  2.48726906e-01],\n",
              "       [-6.82546541e-01,  1.04757148e-01],\n",
              "       [-7.73600535e-01,  1.44444403e-01],\n",
              "       [-1.32130905e+00, -8.73812030e-03],\n",
              "       [ 1.86394577e+00,  3.72463862e-01],\n",
              "       [-6.14826126e-01,  1.71872721e-01],\n",
              "       [-5.20481283e+00,  4.85183117e-03],\n",
              "       [-2.91010549e+00,  2.83213122e-01],\n",
              "       [-5.38058946e+00, -1.69412273e-01],\n",
              "       [-4.05399795e+00,  8.85368823e-02],\n",
              "       [-4.83224404e+00,  1.98331959e-02],\n",
              "       [-6.98522504e+00, -2.71351084e-01],\n",
              "       [-1.07179364e+00,  5.87572305e-01],\n",
              "       [-6.03018753e+00, -1.75125070e-01],\n",
              "       [-4.77307058e+00,  1.20115355e-01],\n",
              "       [-5.99762424e+00, -3.85616017e-01],\n",
              "       [-3.41705448e+00, -1.19325645e-01],\n",
              "       [-3.70827931e+00,  1.06226590e-01],\n",
              "       [-4.45303902e+00, -1.06540863e-01],\n",
              "       [-2.76807428e+00,  3.82673324e-01],\n",
              "       [-3.26109485e+00,  2.65835773e-01],\n",
              "       [-3.91607438e+00, -5.87448261e-02],\n",
              "       [-4.00908494e+00, -2.06619304e-02],\n",
              "       [-7.17032343e+00, -5.79188274e-01],\n",
              "       [-7.80486756e+00, -1.26761473e-01],\n",
              "       [-2.67477752e+00,  3.74954663e-01],\n",
              "       [-4.99224642e+00, -1.86305493e-01],\n",
              "       [-2.46546866e+00,  2.98570522e-01],\n",
              "       [-7.19677666e+00, -2.26935537e-01],\n",
              "       [-2.85567658e+00,  1.00690426e-01],\n",
              "       [-4.67889693e+00, -1.65021809e-01],\n",
              "       [-5.37527289e+00, -2.76309110e-01],\n",
              "       [-2.58783117e+00,  8.85254981e-02],\n",
              "       [-2.65491467e+00,  5.74728708e-02],\n",
              "       [-4.36671053e+00,  1.03316144e-01],\n",
              "       [-4.91037629e+00, -2.28889108e-01],\n",
              "       [-5.84324330e+00, -1.84863682e-01],\n",
              "       [-6.64313371e+00, -6.76936021e-01],\n",
              "       [-4.44038442e+00,  1.07034461e-01],\n",
              "       [-2.96958382e+00,  7.06477733e-02],\n",
              "       [-3.66282108e+00,  2.46259680e-01],\n",
              "       [-6.32611107e+00, -3.38962171e-01],\n",
              "       [-4.40914080e+00, -6.89978984e-02],\n",
              "       [-3.91739404e+00, -2.42862392e-02],\n",
              "       [-2.40444936e+00,  8.12768805e-02],\n",
              "       [-4.33381520e+00, -1.83395047e-01],\n",
              "       [-4.75852430e+00, -9.04696004e-02],\n",
              "       [-3.95269946e+00, -2.01580268e-01],\n",
              "       [-2.91010549e+00,  2.83213122e-01],\n",
              "       [-5.27024464e+00, -1.36879627e-01],\n",
              "       [-4.97359250e+00, -1.50148538e-01],\n",
              "       [-3.99761247e+00, -9.23814556e-02],\n",
              "       [-3.14026518e+00,  1.84887236e-01],\n",
              "       [-3.62796919e+00, -3.88471514e-02],\n",
              "       [-3.90884708e+00, -5.74528250e-02],\n",
              "       [-2.85860209e+00,  1.39243365e-01]])"
            ]
          },
          "metadata": {},
          "execution_count": 21
        }
      ]
    },
    {
      "cell_type": "code",
      "metadata": {
        "colab": {
          "base_uri": "https://localhost:8080/",
          "height": 283
        },
        "id": "Phf49CtKoIk9",
        "outputId": "0a23a4ce-f880-4516-c98a-bddf746478f8"
      },
      "source": [
        "plt.scatter(X_t2[:,0],X_t2[:,1],c=y)"
      ],
      "execution_count": 22,
      "outputs": [
        {
          "output_type": "execute_result",
          "data": {
            "text/plain": [
              "<matplotlib.collections.PathCollection at 0x7f9a46912590>"
            ]
          },
          "metadata": {},
          "execution_count": 22
        },
        {
          "output_type": "display_data",
          "data": {
            "text/plain": [
              "<Figure size 432x288 with 1 Axes>"
            ],
            "image/png": "[encoded data removed]"
          },
          "metadata": {
            "needs_background": "light"
          }
        }
      ]
    },
    {
      "cell_type": "code",
      "metadata": {
        "colab": {
          "base_uri": "https://localhost:8080/"
        },
        "id": "TJach0J5p8Il",
        "outputId": "eb919010-9189-4211-9a9e-3d5bf230b317"
      },
      "source": [
        "W1"
      ],
      "execution_count": 23,
      "outputs": [
        {
          "output_type": "execute_result",
          "data": {
            "text/plain": [
              "array([[-0.743108  , -0.32344628],\n",
              "       [ 0.17380102, -0.35968937],\n",
              "       [-1.76154511,  0.08540619],\n",
              "       [-0.73673893,  0.03718318]])"
            ]
          },
          "metadata": {},
          "execution_count": 23
        }
      ]
    },
    {
      "cell_type": "code",
      "metadata": {
        "colab": {
          "base_uri": "https://localhost:8080/",
          "height": 285
        },
        "id": "ZF_YPNrRp8op",
        "outputId": "9c540b0d-0b2a-470d-9778-35c9632a71bb"
      },
      "source": [
        "plt.plot(X[:,2],X[:,1],'+')"
      ],
      "execution_count": 24,
      "outputs": [
        {
          "output_type": "execute_result",
          "data": {
            "text/plain": [
              "[<matplotlib.lines.Line2D at 0x7f9a442db510>]"
            ]
          },
          "metadata": {},
          "execution_count": 24
        },
        {
          "output_type": "display_data",
          "data": {
            "text/plain": [
              "<Figure size 432x288 with 1 Axes>"
            ],
            "image/png": "[encoded data removed]"
          },
          "metadata": {
            "needs_background": "light"
          }
        }
      ]
    },
    {
      "cell_type": "code",
      "metadata": {
        "id": "1DvF69EdqpU9"
      },
      "source": [
        "Psi = np.diag(S-W@W.T)\n",
        "Ginv = (np.identity(4) + W.T@np.diag(1./Psi)@W)\n",
        "Z = np.linalg.solve(Ginv, W.T@np.diag(1./Psi)@Xc.T)"
      ],
      "execution_count": 25,
      "outputs": []
    },
    {
      "cell_type": "code",
      "metadata": {
        "colab": {
          "base_uri": "https://localhost:8080/"
        },
        "id": "36PheZsnrl-b",
        "outputId": "264855cb-1a4e-45b0-c13e-6bf7df740d7d"
      },
      "source": [
        "Z.shape"
      ],
      "execution_count": 26,
      "outputs": [
        {
          "output_type": "execute_result",
          "data": {
            "text/plain": [
              "(4, 150)"
            ]
          },
          "metadata": {},
          "execution_count": 26
        }
      ]
    },
    {
      "cell_type": "code",
      "metadata": {
        "id": "jJSMCB7VrmVJ"
      },
      "source": [
        "Z = Z.T"
      ],
      "execution_count": 27,
      "outputs": []
    },
    {
      "cell_type": "code",
      "metadata": {
        "colab": {
          "base_uri": "https://localhost:8080/",
          "height": 283
        },
        "id": "M1bkuBdSrxyq",
        "outputId": "f8da43da-ac7a-40ec-d115-fc94d1fd33be"
      },
      "source": [
        "plt.plot(Z[:,0],Z[:,1],'+')"
      ],
      "execution_count": 28,
      "outputs": [
        {
          "output_type": "execute_result",
          "data": {
            "text/plain": [
              "[<matplotlib.lines.Line2D at 0x7f9a442d3f50>]"
            ]
          },
          "metadata": {},
          "execution_count": 28
        },
        {
          "output_type": "display_data",
          "data": {
            "text/plain": [
              "<Figure size 432x288 with 1 Axes>"
            ],
            "image/png": "[encoded data removed]"
          },
          "metadata": {
            "needs_background": "light"
          }
        }
      ]
    },
    {
      "cell_type": "code",
      "metadata": {
        "colab": {
          "base_uri": "https://localhost:8080/"
        },
        "id": "31VLwVhGr9WP",
        "outputId": "4e743354-db60-4b59-f7ca-102d8a684367"
      },
      "source": [
        "trans.get_covariance()"
      ],
      "execution_count": 29,
      "outputs": [
        {
          "output_type": "execute_result",
          "data": {
            "text/plain": [
              "array([[ 0.68126364, -0.04284633,  1.26570894,  0.51508603],\n",
              "       [-0.04284633,  0.1886676 , -0.32646537, -0.14309414],\n",
              "       [ 1.26570894, -0.32646537,  3.09553209,  1.2866423 ],\n",
              "       [ 0.51508603, -0.14309414,  1.2866423 ,  0.57713221]])"
            ]
          },
          "metadata": {},
          "execution_count": 29
        }
      ]
    },
    {
      "cell_type": "code",
      "metadata": {
        "id": "gApEt0Wts8fc"
      },
      "source": [
        "trans.fit_transform?"
      ],
      "execution_count": 30,
      "outputs": []
    },
    {
      "cell_type": "code",
      "metadata": {
        "colab": {
          "base_uri": "https://localhost:8080/"
        },
        "id": "rILnCcHftF9b",
        "outputId": "6a1129f9-a095-403a-8ddb-5cf825ffa13b"
      },
      "source": [
        "np.corrcoef(X_t.T)"
      ],
      "execution_count": 31,
      "outputs": [
        {
          "output_type": "execute_result",
          "data": {
            "text/plain": [
              "array([[1.00000000e+00, 5.70609201e-14],\n",
              "       [5.70609201e-14, 1.00000000e+00]])"
            ]
          },
          "metadata": {},
          "execution_count": 31
        }
      ]
    },
    {
      "cell_type": "code",
      "metadata": {
        "id": "4IGc0p_puMc7"
      },
      "source": [
        ""
      ],
      "execution_count": 31,
      "outputs": []
    }
  ]
}