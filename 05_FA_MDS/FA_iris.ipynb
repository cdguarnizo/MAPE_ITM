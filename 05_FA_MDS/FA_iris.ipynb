{
  "nbformat": 4,
  "nbformat_minor": 0,
  "metadata": {
    "colab": {
      "name": "FA_iris.ipynb",
      "provenance": [],
      "collapsed_sections": []
    },
    "kernelspec": {
      "name": "python3",
      "display_name": "Python 3"
    },
    "language_info": {
      "name": "python"
    }
  },
  "cells": [
    {
      "cell_type": "code",
      "metadata": {
        "id": "AanlVpvkjoZC"
      },
      "source": [
        "import sklearn\n",
        "from sklearn import datasets\n",
        "from sklearn.decomposition import PCA, FactorAnalysis\n",
        "import numpy as np\n",
        "import matplotlib.pyplot as plt"
      ],
      "execution_count": 60,
      "outputs": []
    },
    {
      "cell_type": "code",
      "metadata": {
        "id": "kxIUOgwYjqFG"
      },
      "source": [
        "iris = datasets.load_iris()\n",
        "X = iris.data  # we only take the first two features.\n",
        "y = iris.target"
      ],
      "execution_count": 4,
      "outputs": []
    },
    {
      "cell_type": "code",
      "metadata": {
        "id": "nuNn6iBkkSJW"
      },
      "source": [
        "Xc = X-np.mean(X, axis=0)"
      ],
      "execution_count": 73,
      "outputs": []
    },
    {
      "cell_type": "code",
      "metadata": {
        "id": "HFaJvbeQkAIo"
      },
      "source": [
        "S = np.cov(Xc.T)"
      ],
      "execution_count": 74,
      "outputs": []
    },
    {
      "cell_type": "code",
      "metadata": {
        "colab": {
          "base_uri": "https://localhost:8080/"
        },
        "id": "83BWTRBokNcW",
        "outputId": "3ec5704a-f0e9-49c0-ceeb-cefdfb937b38"
      },
      "source": [
        "np.corrcoef(Xc.T)"
      ],
      "execution_count": 75,
      "outputs": [
        {
          "output_type": "execute_result",
          "data": {
            "text/plain": [
              "array([[ 1.        , -0.11756978,  0.87175378,  0.81794113],\n",
              "       [-0.11756978,  1.        , -0.4284401 , -0.36612593],\n",
              "       [ 0.87175378, -0.4284401 ,  1.        ,  0.96286543],\n",
              "       [ 0.81794113, -0.36612593,  0.96286543,  1.        ]])"
            ]
          },
          "metadata": {},
          "execution_count": 75
        }
      ]
    },
    {
      "cell_type": "code",
      "metadata": {
        "id": "gTfIABNkkOLA"
      },
      "source": [
        "FactorAnalysis?"
      ],
      "execution_count": 13,
      "outputs": []
    },
    {
      "cell_type": "code",
      "metadata": {
        "id": "sBEjkM3zkjI4"
      },
      "source": [
        "U,D,_ = np.linalg.svd(S)"
      ],
      "execution_count": 76,
      "outputs": []
    },
    {
      "cell_type": "code",
      "metadata": {
        "colab": {
          "base_uri": "https://localhost:8080/"
        },
        "id": "Ci6VbkVGku7Q",
        "outputId": "8cd04703-2b10-4a89-826b-ddf771194619"
      },
      "source": [
        "U"
      ],
      "execution_count": 77,
      "outputs": [
        {
          "output_type": "execute_result",
          "data": {
            "text/plain": [
              "array([[-0.36138659, -0.65658877,  0.58202985,  0.31548719],\n",
              "       [ 0.08452251, -0.73016143, -0.59791083, -0.3197231 ],\n",
              "       [-0.85667061,  0.17337266, -0.07623608, -0.47983899],\n",
              "       [-0.3582892 ,  0.07548102, -0.54583143,  0.75365743]])"
            ]
          },
          "metadata": {},
          "execution_count": 77
        }
      ]
    },
    {
      "cell_type": "code",
      "metadata": {
        "colab": {
          "base_uri": "https://localhost:8080/"
        },
        "id": "81iWESfckwC-",
        "outputId": "e516290f-c1fe-41d4-b8e8-b37ed2147662"
      },
      "source": [
        "D"
      ],
      "execution_count": 78,
      "outputs": [
        {
          "output_type": "execute_result",
          "data": {
            "text/plain": [
              "array([4.22824171, 0.24267075, 0.0782095 , 0.02383509])"
            ]
          },
          "metadata": {},
          "execution_count": 78
        }
      ]
    },
    {
      "cell_type": "code",
      "metadata": {
        "colab": {
          "base_uri": "https://localhost:8080/"
        },
        "id": "Xd4SsBt6kxPe",
        "outputId": "c66a171e-9523-4b90-fd96-0668fb814298"
      },
      "source": [
        "W = U@np.diag(np.sqrt(D))\n",
        "print(W)"
      ],
      "execution_count": 28,
      "outputs": [
        {
          "output_type": "stream",
          "name": "stdout",
          "text": [
            "[[-0.743108   -0.32344628  0.16277024  0.04870686]\n",
            " [ 0.17380102 -0.35968937 -0.16721151 -0.04936083]\n",
            " [-1.76154511  0.08540619 -0.02132015 -0.07408051]\n",
            " [-0.73673893  0.03718318 -0.15264701  0.11635429]]\n"
          ]
        }
      ]
    },
    {
      "cell_type": "code",
      "metadata": {
        "colab": {
          "base_uri": "https://localhost:8080/"
        },
        "id": "oWZ3CWWBlHan",
        "outputId": "730b2222-ae72-4e7b-a231-314724b01536"
      },
      "source": [
        "W@W.T-S"
      ],
      "execution_count": 29,
      "outputs": [
        {
          "output_type": "execute_result",
          "data": {
            "text/plain": [
              "array([[ 8.88178420e-16, -1.38777878e-16,  1.55431223e-15,\n",
              "         5.55111512e-16],\n",
              "       [-1.38777878e-16, -1.38777878e-16,  0.00000000e+00,\n",
              "         1.11022302e-16],\n",
              "       [ 1.55431223e-15,  0.00000000e+00,  1.33226763e-15,\n",
              "         6.66133815e-16],\n",
              "       [ 5.55111512e-16,  1.11022302e-16,  6.66133815e-16,\n",
              "         1.11022302e-16]])"
            ]
          },
          "metadata": {},
          "execution_count": 29
        }
      ]
    },
    {
      "cell_type": "code",
      "metadata": {
        "colab": {
          "base_uri": "https://localhost:8080/"
        },
        "id": "uX7gk5o-lUzU",
        "outputId": "6dc8de03-7a55-4edb-c954-b7b4fa4c29ad"
      },
      "source": [
        "W1 = U[:,:2]@np.diag(np.sqrt(D[:2]))\n",
        "print(W1.shape)"
      ],
      "execution_count": 80,
      "outputs": [
        {
          "output_type": "stream",
          "name": "stdout",
          "text": [
            "(4, 2)\n"
          ]
        }
      ]
    },
    {
      "cell_type": "code",
      "metadata": {
        "colab": {
          "base_uri": "https://localhost:8080/"
        },
        "id": "UCVmji6Jle72",
        "outputId": "a04593c4-2900-4e75-f07f-dae4383c05f7"
      },
      "source": [
        "W1@W1.T-S"
      ],
      "execution_count": 82,
      "outputs": [
        {
          "output_type": "execute_result",
          "data": {
            "text/plain": [
              "array([[-0.02886651,  0.02962127,  0.00707852,  0.01917914],\n",
              "       [ 0.02962127, -0.03039618, -0.00722165, -0.01978099],\n",
              "       [ 0.00707852, -0.00722165, -0.00594247,  0.00536513],\n",
              "       [ 0.01917914, -0.01978099,  0.00536513, -0.03683943]])"
            ]
          },
          "metadata": {},
          "execution_count": 82
        }
      ]
    },
    {
      "cell_type": "code",
      "metadata": {
        "id": "bHNxU2bMl1Vc"
      },
      "source": [
        "trans = FactorAnalysis(n_components=2, random_state=1)"
      ],
      "execution_count": 90,
      "outputs": []
    },
    {
      "cell_type": "code",
      "metadata": {
        "id": "yrqx1v7AnVKt"
      },
      "source": [
        "X_t = trans.fit_transform(X)"
      ],
      "execution_count": 91,
      "outputs": []
    },
    {
      "cell_type": "code",
      "metadata": {
        "colab": {
          "base_uri": "https://localhost:8080/"
        },
        "id": "VGoXjWFanZ-v",
        "outputId": "ba693842-580f-4715-c9d3-7d090d9d584f"
      },
      "source": [
        "X_t"
      ],
      "execution_count": 92,
      "outputs": [
        {
          "output_type": "execute_result",
          "data": {
            "text/plain": [
              "array([[-1.32761727e+00, -5.61310764e-01],\n",
              "       [-1.33763854e+00, -2.79764907e-03],\n",
              "       [-1.40281483e+00,  3.06349492e-01],\n",
              "       [-1.30104274e+00,  7.18826835e-01],\n",
              "       [-1.33342439e+00, -3.64588985e-01],\n",
              "       [-1.14667134e+00, -1.04228193e+00],\n",
              "       [-1.35307178e+00,  5.74473558e-01],\n",
              "       [-1.27940722e+00, -2.33129838e-01],\n",
              "       [-1.36530876e+00,  1.12229944e+00],\n",
              "       [-1.28651978e+00,  4.72301660e-02],\n",
              "       [-1.25777170e+00, -1.18508651e+00],\n",
              "       [-1.23700429e+00,  2.91772867e-01],\n",
              "       [-1.34543381e+00,  2.06818259e-01],\n",
              "       [-1.53401771e+00,  1.05544473e+00],\n",
              "       [-1.39682229e+00, -2.38993243e+00],\n",
              "       [-1.23819458e+00, -1.98969103e+00],\n",
              "       [-1.36091949e+00, -1.37946760e+00],\n",
              "       [-1.32540156e+00, -5.50623528e-01],\n",
              "       [-1.13192081e+00, -1.69029724e+00],\n",
              "       [-1.27252223e+00, -5.37071207e-01],\n",
              "       [-1.14996491e+00, -9.45749580e-01],\n",
              "       [-1.27007895e+00, -5.02802605e-01],\n",
              "       [-1.56999078e+00,  1.79437924e-01],\n",
              "       [-1.15982889e+00, -2.29197074e-01],\n",
              "       [-1.07631818e+00,  5.44662118e-01],\n",
              "       [-1.22493491e+00, -5.45079595e-02],\n",
              "       [-1.22141376e+00, -1.27458948e-01],\n",
              "       [-1.26847567e+00, -6.97317491e-01],\n",
              "       [-1.32181014e+00, -7.58032543e-01],\n",
              "       [-1.24212872e+00,  5.59238742e-01],\n",
              "       [-1.23632159e+00,  3.62516963e-01],\n",
              "       [-1.25265757e+00, -1.09296794e+00],\n",
              "       [-1.27205679e+00, -8.49492920e-01],\n",
              "       [-1.30689202e+00, -1.60759290e+00],\n",
              "       [-1.28430407e+00,  5.79174024e-02],\n",
              "       [-1.43963820e+00, -4.38856357e-01],\n",
              "       [-1.35886108e+00, -1.52681976e+00],\n",
              "       [-1.34121966e+00, -1.54973078e-01],\n",
              "       [-1.41909837e+00,  1.01442165e+00],\n",
              "       [-1.27382766e+00, -4.53432982e-01],\n",
              "       [-1.38454316e+00, -4.14616800e-01],\n",
              "       [-1.40971013e+00,  9.69875304e-01],\n",
              "       [-1.41955350e+00,  9.67258924e-01],\n",
              "       [-1.21720991e+00, -1.29665841e-01],\n",
              "       [-1.05605836e+00, -1.89198303e-01],\n",
              "       [-1.34100239e+00,  2.28192731e-01],\n",
              "       [-1.22117589e+00, -4.63462026e-01],\n",
              "       [-1.35483235e+00,  6.10949052e-01],\n",
              "       [-1.26335125e+00, -9.64783366e-01],\n",
              "       [-1.33274169e+00, -2.93844889e-01],\n",
              "       [ 5.73212808e-01, -1.76629781e+00],\n",
              "       [ 4.34827097e-01, -6.02384546e-01],\n",
              "       [ 6.77200606e-01, -1.34313323e+00],\n",
              "       [ 1.14417583e-01,  1.14971948e+00],\n",
              "       [ 4.94878965e-01, -6.44065812e-01],\n",
              "       [ 3.92249052e-01,  1.01268845e+00],\n",
              "       [ 5.38359759e-01, -2.26382698e-01],\n",
              "       [-3.00868726e-01,  1.82582035e+00],\n",
              "       [ 4.95799536e-01, -9.09324794e-01],\n",
              "       [ 4.54223102e-02,  1.64269427e+00],\n",
              "       [-1.87254820e-01,  1.86843550e+00],\n",
              "       [ 2.46698331e-01,  2.93404654e-01],\n",
              "       [ 1.35895809e-01,  3.97234175e-02],\n",
              "       [ 5.23679499e-01,  2.87174579e-01],\n",
              "       [-9.56164233e-02,  4.50742478e-01],\n",
              "       [ 3.96015588e-01, -1.33469627e+00],\n",
              "       [ 3.90645777e-01,  1.20720334e+00],\n",
              "       [ 1.77160895e-01,  4.46719296e-01],\n",
              "       [ 4.25943662e-01,  7.40353954e-02],\n",
              "       [ 6.15485474e-02,  7.76582717e-01],\n",
              "       [ 5.74262556e-01,  7.84082134e-01],\n",
              "       [ 1.46757085e-01, -2.90006210e-01],\n",
              "       [ 6.45088671e-01,  1.20173823e-01],\n",
              "       [ 5.19475649e-01,  2.89381472e-01],\n",
              "       [ 3.23954305e-01, -7.21607757e-01],\n",
              "       [ 3.90663599e-01, -1.09081176e+00],\n",
              "       [ 6.16526005e-01, -1.14706965e+00],\n",
              "       [ 7.24262516e-01, -7.73274691e-01],\n",
              "       [ 4.13191573e-01,  3.49572126e-01],\n",
              "       [-1.49563328e-01,  1.84825304e-01],\n",
              "       [ 2.63451933e-03,  9.36170810e-01],\n",
              "       [-5.31432284e-02,  8.41187157e-01],\n",
              "       [ 7.44682345e-02,  2.99500935e-01],\n",
              "       [ 7.37234651e-01,  9.13200594e-01],\n",
              "       [ 3.79486663e-01,  1.64780962e+00],\n",
              "       [ 4.14269442e-01,  2.42352536e-01],\n",
              "       [ 5.58917414e-01, -1.07111978e+00],\n",
              "       [ 3.73302194e-01, -2.75520004e-01],\n",
              "       [ 1.71966204e-01,  8.48643197e-01],\n",
              "       [ 1.13962447e-01,  1.10255675e+00],\n",
              "       [ 3.25767326e-01,  1.40547382e+00],\n",
              "       [ 4.69889892e-01,  1.79296797e-01],\n",
              "       [ 1.28257841e-01,  4.07378717e-01],\n",
              "       [-2.95061601e-01,  1.62909858e+00],\n",
              "       [ 2.26210946e-01,  1.00368371e+00],\n",
              "       [ 2.28892091e-01,  7.01949233e-01],\n",
              "       [ 2.31335368e-01,  7.36217835e-01],\n",
              "       [ 3.12795191e-01, -2.81001469e-01],\n",
              "       [-4.48407588e-01,  1.11943069e+00],\n",
              "       [ 1.78000896e-01,  6.75502783e-01],\n",
              "       [ 1.25460764e+00,  9.65655849e-01],\n",
              "       [ 7.32722664e-01,  1.38586859e+00],\n",
              "       [ 1.23750193e+00, -8.53070570e-01],\n",
              "       [ 1.02575980e+00,  6.47984988e-01],\n",
              "       [ 1.15267826e+00,  3.95139114e-01],\n",
              "       [ 1.64033399e+00, -1.36451137e+00],\n",
              "       [ 3.57158135e-01,  2.88860664e+00],\n",
              "       [ 1.45648964e+00, -9.64971535e-01],\n",
              "       [ 1.15611238e+00,  2.96907068e-02],\n",
              "       [ 1.35770299e+00, -1.00352013e+00],\n",
              "       [ 7.72857432e-01, -2.63473008e-01],\n",
              "       [ 8.73324083e-01,  2.32642561e-01],\n",
              "       [ 1.00651510e+00, -5.29346805e-01],\n",
              "       [ 6.76251912e-01,  1.57972529e+00],\n",
              "       [ 7.43573640e-01,  1.41572341e+00],\n",
              "       [ 8.81049079e-01,  1.57484679e-01],\n",
              "       [ 9.83129306e-01,  9.95009177e-02],\n",
              "       [ 1.69987075e+00, -1.67848179e+00],\n",
              "       [ 1.81194135e+00, -1.21622533e+00],\n",
              "       [ 6.82594743e-01,  9.36123768e-01],\n",
              "       [ 1.12319502e+00, -6.06845374e-01],\n",
              "       [ 6.16427613e-01,  1.64498792e+00],\n",
              "       [ 1.69771501e+00, -1.46404261e+00],\n",
              "       [ 6.51280662e-01,  1.05072801e-01],\n",
              "       [ 1.10737692e+00, -2.11194924e-01],\n",
              "       [ 1.28954126e+00, -1.06830174e+00],\n",
              "       [ 5.91911498e-01,  2.17498163e-01],\n",
              "       [ 6.39438844e-01,  4.74934993e-01],\n",
              "       [ 1.03821405e+00,  4.83324918e-01],\n",
              "       [ 1.17844090e+00, -1.21110631e+00],\n",
              "       [ 1.35738840e+00, -1.31959891e+00],\n",
              "       [ 1.54591233e+00, -2.39335180e+00],\n",
              "       [ 1.04042976e+00,  4.94012155e-01],\n",
              "       [ 7.51530046e-01,  2.18022560e-01],\n",
              "       [ 1.00642055e+00,  1.11658643e+00],\n",
              "       [ 1.38253477e+00, -1.98492213e+00],\n",
              "       [ 1.03791621e+00,  5.94201580e-01],\n",
              "       [ 9.77322181e-01,  2.96222696e-01],\n",
              "       [ 5.80297248e-01,  6.10941720e-01],\n",
              "       [ 9.58305054e-01, -8.57527732e-01],\n",
              "       [ 1.06091714e+00, -2.16266901e-01],\n",
              "       [ 8.02050354e-01, -1.08904251e+00],\n",
              "       [ 7.32722664e-01,  1.38586859e+00],\n",
              "       [ 1.22473954e+00, -2.17949396e-01],\n",
              "       [ 1.11623976e+00, -1.68445978e-01],\n",
              "       [ 8.44680847e-01, -5.40558439e-01],\n",
              "       [ 7.07513545e-01,  2.47219185e-01],\n",
              "       [ 8.26874607e-01, -1.32013860e-01],\n",
              "       [ 9.22996869e-01,  6.35224654e-01],\n",
              "       [ 7.35403808e-01,  1.08413411e+00]])"
            ]
          },
          "metadata": {},
          "execution_count": 92
        }
      ]
    },
    {
      "cell_type": "code",
      "metadata": {
        "colab": {
          "base_uri": "https://localhost:8080/",
          "height": 283
        },
        "id": "tQ9PhAj1na8k",
        "outputId": "575e1fd6-d08b-496a-d2dc-837a57b3152b"
      },
      "source": [
        "plt.plot(X_t[:,0],X_t[:,1],'+')"
      ],
      "execution_count": 62,
      "outputs": [
        {
          "output_type": "execute_result",
          "data": {
            "text/plain": [
              "[<matplotlib.lines.Line2D at 0x7f379f3efc10>]"
            ]
          },
          "metadata": {},
          "execution_count": 62
        },
        {
          "output_type": "display_data",
          "data": {
            "image/png": "[encoded data removed]",
            "text/plain": [
              "<Figure size 432x288 with 1 Axes>"
            ]
          },
          "metadata": {
            "needs_background": "light"
          }
        }
      ]
    },
    {
      "cell_type": "code",
      "metadata": {
        "id": "vTnL5q08n7cL"
      },
      "source": [
        "X_t2 = Xc@W1"
      ],
      "execution_count": 83,
      "outputs": []
    },
    {
      "cell_type": "code",
      "metadata": {
        "colab": {
          "base_uri": "https://localhost:8080/"
        },
        "id": "AzcW3hMCoDcX",
        "outputId": "1b7996f0-dde7-4092-a8c6-b49183150ce3"
      },
      "source": [
        "X_t2"
      ],
      "execution_count": 84,
      "outputs": [
        {
          "output_type": "execute_result",
          "data": {
            "text/plain": [
              "array([[ 5.51928399e+00, -1.57340267e-01],\n",
              "       [ 5.58100509e+00,  8.71936758e-02],\n",
              "       [ 5.94054140e+00,  7.14044395e-02],\n",
              "       [ 5.64516308e+00,  1.56799242e-01],\n",
              "       [ 5.61097490e+00, -1.60964576e-01],\n",
              "       [ 4.69006068e+00, -3.65191409e-01],\n",
              "       [ 5.79978400e+00,  4.40701298e-02],\n",
              "       [ 5.40006018e+00, -8.04860825e-02],\n",
              "       [ 5.93517899e+00,  2.84885755e-01],\n",
              "       [ 5.49590457e+00,  5.60470398e-02],\n",
              "       [ 5.15495729e+00, -3.17771408e-01],\n",
              "       [ 5.37252727e+00, -7.25620707e-03],\n",
              "       [ 5.72898978e+00,  1.15819987e-01],\n",
              "       [ 6.62900731e+00,  2.51921272e-01],\n",
              "       [ 5.43831792e+00, -5.80678589e-01],\n",
              "       [ 4.90633781e+00, -6.59151218e-01],\n",
              "       [ 5.39467873e+00, -3.99353884e-01],\n",
              "       [ 5.44561010e+00, -1.53621949e-01],\n",
              "       [ 4.52342207e+00, -4.29974675e-01],\n",
              "       [ 5.32159590e+00, -2.52988142e-01],\n",
              "       [ 4.75050796e+00, -1.92783359e-01],\n",
              "       [ 5.23054190e+00, -2.13300887e-01],\n",
              "       [ 6.61283614e+00, -6.57485370e-02],\n",
              "       [ 4.73503858e+00, -4.86255837e-02],\n",
              "       [ 4.84406374e+00,  1.83656491e-02],\n",
              "       [ 5.15438527e+00,  7.19302849e-02],\n",
              "       [ 5.07655789e+00, -6.45088288e-02],\n",
              "       [ 5.26881868e+00, -1.81144276e-01],\n",
              "       [ 5.42759309e+00, -1.53715958e-01],\n",
              "       [ 5.41207787e+00,  9.70262957e-02],\n",
              "       [ 5.32038697e+00,  1.00650604e-01],\n",
              "       [ 4.95546920e+00, -2.02427961e-01],\n",
              "       [ 5.44677318e+00, -4.00676217e-01],\n",
              "       [ 5.34370150e+00, -5.38501340e-01],\n",
              "       [ 5.42223068e+00,  5.97653574e-02],\n",
              "       [ 5.89376351e+00, -3.41700643e-02],\n",
              "       [ 5.39819530e+00, -2.95259399e-01],\n",
              "       [ 5.75895959e+00, -1.32338265e-01],\n",
              "       [ 6.12871360e+00,  2.40376199e-01],\n",
              "       [ 5.32574938e+00, -1.12830711e-01],\n",
              "       [ 5.69607541e+00, -1.29817940e-01],\n",
              "       [ 5.85906820e+00,  4.63532448e-01],\n",
              "       [ 6.16347380e+00,  1.68438325e-01],\n",
              "       [ 4.94659020e+00, -9.30411309e-02],\n",
              "       [ 4.54330396e+00, -2.15107350e-01],\n",
              "       [ 5.58164199e+00,  1.23256622e-01],\n",
              "       [ 5.21911528e+00, -2.48165841e-01],\n",
              "       [ 5.83869769e+00,  1.12289687e-01],\n",
              "       [ 5.22926809e+00, -2.85426779e-01],\n",
              "       [ 5.55883459e+00, -5.30577641e-02],\n",
              "       [-2.64194708e+00, -3.37521166e-01],\n",
              "       [-1.91744715e+00, -1.56816316e-01],\n",
              "       [-3.01099930e+00, -2.48408046e-01],\n",
              "       [-3.76950523e-01,  4.07866045e-01],\n",
              "       [-2.23743287e+00, -3.67445770e-02],\n",
              "       [-1.31944417e+00,  2.06035196e-01],\n",
              "       [-2.25173916e+00, -1.39641070e-01],\n",
              "       [ 1.54039763e+00,  4.95025595e-01],\n",
              "       [-2.14701578e+00, -1.12494778e-01],\n",
              "       [ 1.79829023e-02,  3.56201880e-01],\n",
              "       [ 1.04425741e+00,  6.23637952e-01],\n",
              "       [-1.05218982e+00,  5.12228440e-02],\n",
              "       [-5.44862948e-01,  2.70956888e-01],\n",
              "       [-2.02529018e+00,  6.14873005e-02],\n",
              "       [ 3.57637329e-01,  1.25545319e-01],\n",
              "       [-1.90793125e+00, -2.30140200e-01],\n",
              "       [-1.35772095e+00,  1.73878585e-01],\n",
              "       [-4.85495350e-01,  1.64342078e-01],\n",
              "       [-1.94262656e+00,  2.67562312e-01],\n",
              "       [-9.29988239e-02,  2.87606289e-01],\n",
              "       [-2.29537836e+00,  4.16836345e-02],\n",
              "       [-7.35914816e-01,  3.39535891e-02],\n",
              "       [-2.66941510e+00,  1.61473347e-01],\n",
              "       [-1.89532250e+00,  9.00196026e-02],\n",
              "       [-1.46993065e+00, -7.34273771e-02],\n",
              "       [-1.85100055e+00, -1.61826635e-01],\n",
              "       [-2.73900040e+00, -1.20415542e-01],\n",
              "       [-3.20326009e+00, -1.31772598e-01],\n",
              "       [-1.67234425e+00,  8.04690089e-02],\n",
              "       [ 6.28362413e-01,  1.81411931e-01],\n",
              "       [ 1.40086386e-01,  3.47379236e-01],\n",
              "       [ 3.89914789e-01,  3.35120299e-01],\n",
              "       [-2.80534114e-01,  1.54697475e-01],\n",
              "       [-2.83770541e+00,  2.07368913e-01],\n",
              "       [-1.20909935e+00,  2.38567842e-01],\n",
              "       [-1.65911764e+00, -9.56573594e-02],\n",
              "       [-2.51006867e+00, -2.00800027e-01],\n",
              "       [-1.67605497e+00,  1.83271493e-01],\n",
              "       [-5.05755123e-01,  1.32279475e-01],\n",
              "       [-3.42190320e-01,  3.35928171e-01],\n",
              "       [-9.55754368e-01,  3.30403391e-01],\n",
              "       [-1.83175557e+00,  1.69777446e-02],\n",
              "       [-4.74068726e-01,  1.99207031e-01],\n",
              "       [ 1.44870673e+00,  4.98649903e-01],\n",
              "       [-7.34049938e-01,  2.48726906e-01],\n",
              "       [-6.82546541e-01,  1.04757148e-01],\n",
              "       [-7.73600535e-01,  1.44444403e-01],\n",
              "       [-1.32130905e+00, -8.73812030e-03],\n",
              "       [ 1.86394577e+00,  3.72463862e-01],\n",
              "       [-6.14826126e-01,  1.71872721e-01],\n",
              "       [-5.20481283e+00,  4.85183117e-03],\n",
              "       [-2.91010549e+00,  2.83213122e-01],\n",
              "       [-5.38058946e+00, -1.69412273e-01],\n",
              "       [-4.05399795e+00,  8.85368823e-02],\n",
              "       [-4.83224404e+00,  1.98331959e-02],\n",
              "       [-6.98522504e+00, -2.71351084e-01],\n",
              "       [-1.07179364e+00,  5.87572305e-01],\n",
              "       [-6.03018753e+00, -1.75125070e-01],\n",
              "       [-4.77307058e+00,  1.20115355e-01],\n",
              "       [-5.99762424e+00, -3.85616017e-01],\n",
              "       [-3.41705448e+00, -1.19325645e-01],\n",
              "       [-3.70827931e+00,  1.06226590e-01],\n",
              "       [-4.45303902e+00, -1.06540863e-01],\n",
              "       [-2.76807428e+00,  3.82673324e-01],\n",
              "       [-3.26109485e+00,  2.65835773e-01],\n",
              "       [-3.91607438e+00, -5.87448261e-02],\n",
              "       [-4.00908494e+00, -2.06619304e-02],\n",
              "       [-7.17032343e+00, -5.79188274e-01],\n",
              "       [-7.80486756e+00, -1.26761473e-01],\n",
              "       [-2.67477752e+00,  3.74954663e-01],\n",
              "       [-4.99224642e+00, -1.86305493e-01],\n",
              "       [-2.46546866e+00,  2.98570522e-01],\n",
              "       [-7.19677666e+00, -2.26935537e-01],\n",
              "       [-2.85567658e+00,  1.00690426e-01],\n",
              "       [-4.67889693e+00, -1.65021809e-01],\n",
              "       [-5.37527289e+00, -2.76309110e-01],\n",
              "       [-2.58783117e+00,  8.85254981e-02],\n",
              "       [-2.65491467e+00,  5.74728708e-02],\n",
              "       [-4.36671053e+00,  1.03316144e-01],\n",
              "       [-4.91037629e+00, -2.28889108e-01],\n",
              "       [-5.84324330e+00, -1.84863682e-01],\n",
              "       [-6.64313371e+00, -6.76936021e-01],\n",
              "       [-4.44038442e+00,  1.07034461e-01],\n",
              "       [-2.96958382e+00,  7.06477733e-02],\n",
              "       [-3.66282108e+00,  2.46259680e-01],\n",
              "       [-6.32611107e+00, -3.38962171e-01],\n",
              "       [-4.40914080e+00, -6.89978984e-02],\n",
              "       [-3.91739404e+00, -2.42862392e-02],\n",
              "       [-2.40444936e+00,  8.12768805e-02],\n",
              "       [-4.33381520e+00, -1.83395047e-01],\n",
              "       [-4.75852430e+00, -9.04696004e-02],\n",
              "       [-3.95269946e+00, -2.01580268e-01],\n",
              "       [-2.91010549e+00,  2.83213122e-01],\n",
              "       [-5.27024464e+00, -1.36879627e-01],\n",
              "       [-4.97359250e+00, -1.50148538e-01],\n",
              "       [-3.99761247e+00, -9.23814556e-02],\n",
              "       [-3.14026518e+00,  1.84887236e-01],\n",
              "       [-3.62796919e+00, -3.88471514e-02],\n",
              "       [-3.90884708e+00, -5.74528250e-02],\n",
              "       [-2.85860209e+00,  1.39243365e-01]])"
            ]
          },
          "metadata": {},
          "execution_count": 84
        }
      ]
    },
    {
      "cell_type": "code",
      "metadata": {
        "colab": {
          "base_uri": "https://localhost:8080/",
          "height": 283
        },
        "id": "Phf49CtKoIk9",
        "outputId": "5f83cb51-e171-4226-d1c2-e6c831112143"
      },
      "source": [
        "plt.plot(X_t2[:,0],X_t2[:,1],'+')"
      ],
      "execution_count": 87,
      "outputs": [
        {
          "output_type": "execute_result",
          "data": {
            "text/plain": [
              "[<matplotlib.lines.Line2D at 0x7f379fa59e50>]"
            ]
          },
          "metadata": {},
          "execution_count": 87
        },
        {
          "output_type": "display_data",
          "data": {
            "image/png": "[encoded data removed]",
            "text/plain": [
              "<Figure size 432x288 with 1 Axes>"
            ]
          },
          "metadata": {
            "needs_background": "light"
          }
        }
      ]
    },
    {
      "cell_type": "code",
      "metadata": {
        "colab": {
          "base_uri": "https://localhost:8080/"
        },
        "id": "TJach0J5p8Il",
        "outputId": "e92eea6d-f6aa-4ed2-e1b6-d575608dd6c7"
      },
      "source": [
        "W1"
      ],
      "execution_count": 88,
      "outputs": [
        {
          "output_type": "execute_result",
          "data": {
            "text/plain": [
              "array([[-0.743108  , -0.32344628],\n",
              "       [ 0.17380102, -0.35968937],\n",
              "       [-1.76154511,  0.08540619],\n",
              "       [-0.73673893,  0.03718318]])"
            ]
          },
          "metadata": {},
          "execution_count": 88
        }
      ]
    },
    {
      "cell_type": "code",
      "metadata": {
        "colab": {
          "base_uri": "https://localhost:8080/",
          "height": 285
        },
        "id": "ZF_YPNrRp8op",
        "outputId": "1ef0d0d7-4f11-47fa-efcb-ef03c05f583d"
      },
      "source": [
        "plt.plot(X[:,2],X[:,1],'+')"
      ],
      "execution_count": 89,
      "outputs": [
        {
          "output_type": "execute_result",
          "data": {
            "text/plain": [
              "[<matplotlib.lines.Line2D at 0x7f379f341510>]"
            ]
          },
          "metadata": {},
          "execution_count": 89
        },
        {
          "output_type": "display_data",
          "data": {
            "image/png": "[encoded data removed]",
            "text/plain": [
              "<Figure size 432x288 with 1 Axes>"
            ]
          },
          "metadata": {
            "needs_background": "light"
          }
        }
      ]
    },
    {
      "cell_type": "code",
      "metadata": {
        "id": "1DvF69EdqpU9"
      },
      "source": [
        "Psi = np.diag(S-W@W.T)\n",
        "Ginv = (np.identity(4) + W.T@np.diag(1./Psi)@W)\n",
        "Z = np.linalg.solve(Ginv, W.T@np.diag(1./Psi)@Xc.T)"
      ],
      "execution_count": 97,
      "outputs": []
    },
    {
      "cell_type": "code",
      "metadata": {
        "colab": {
          "base_uri": "https://localhost:8080/"
        },
        "id": "36PheZsnrl-b",
        "outputId": "3da4e90a-8db6-4f3e-9c8d-322284f2ba7b"
      },
      "source": [
        "Z.shape"
      ],
      "execution_count": 98,
      "outputs": [
        {
          "output_type": "execute_result",
          "data": {
            "text/plain": [
              "(4, 150)"
            ]
          },
          "metadata": {},
          "execution_count": 98
        }
      ]
    },
    {
      "cell_type": "code",
      "metadata": {
        "id": "jJSMCB7VrmVJ"
      },
      "source": [
        "Z = Z.T"
      ],
      "execution_count": 100,
      "outputs": []
    },
    {
      "cell_type": "code",
      "metadata": {
        "colab": {
          "base_uri": "https://localhost:8080/",
          "height": 283
        },
        "id": "M1bkuBdSrxyq",
        "outputId": "7df4a32b-dd39-4836-a36d-b042ce580aa1"
      },
      "source": [
        "plt.plot(Z[:,0],Z[:,1],'+')"
      ],
      "execution_count": 101,
      "outputs": [
        {
          "output_type": "execute_result",
          "data": {
            "text/plain": [
              "[<matplotlib.lines.Line2D at 0x7f379f291bd0>]"
            ]
          },
          "metadata": {},
          "execution_count": 101
        },
        {
          "output_type": "display_data",
          "data": {
            "image/png": "[encoded data removed]",
            "text/plain": [
              "<Figure size 432x288 with 1 Axes>"
            ]
          },
          "metadata": {
            "needs_background": "light"
          }
        }
      ]
    },
    {
      "cell_type": "code",
      "metadata": {
        "colab": {
          "base_uri": "https://localhost:8080/"
        },
        "id": "31VLwVhGr9WP",
        "outputId": "0e42ccf0-0bf4-4304-b946-60e6936ab2bb"
      },
      "source": [
        "trans.get_covariance()"
      ],
      "execution_count": 104,
      "outputs": [
        {
          "output_type": "execute_result",
          "data": {
            "text/plain": [
              "array([[ 0.68126364, -0.04284633,  1.26570894,  0.51508603],\n",
              "       [-0.04284633,  0.1886676 , -0.32646537, -0.14309414],\n",
              "       [ 1.26570894, -0.32646537,  3.09553209,  1.2866423 ],\n",
              "       [ 0.51508603, -0.14309414,  1.2866423 ,  0.57713221]])"
            ]
          },
          "metadata": {},
          "execution_count": 104
        }
      ]
    },
    {
      "cell_type": "code",
      "metadata": {
        "id": "gApEt0Wts8fc"
      },
      "source": [
        "trans.fit_transform?"
      ],
      "execution_count": 108,
      "outputs": []
    },
    {
      "cell_type": "code",
      "metadata": {
        "colab": {
          "base_uri": "https://localhost:8080/"
        },
        "id": "rILnCcHftF9b",
        "outputId": "46e26688-10b8-4829-ecab-2d0bc9e28867"
      },
      "source": [
        "np.corrcoef(X_t.T)"
      ],
      "execution_count": 110,
      "outputs": [
        {
          "output_type": "execute_result",
          "data": {
            "text/plain": [
              "array([[1.00000000e+00, 5.70609201e-14],\n",
              "       [5.70609201e-14, 1.00000000e+00]])"
            ]
          },
          "metadata": {},
          "execution_count": 110
        }
      ]
    },
    {
      "cell_type": "code",
      "metadata": {
        "id": "4IGc0p_puMc7"
      },
      "source": [
        ""
      ],
      "execution_count": null,
      "outputs": []
    }
  ]
}