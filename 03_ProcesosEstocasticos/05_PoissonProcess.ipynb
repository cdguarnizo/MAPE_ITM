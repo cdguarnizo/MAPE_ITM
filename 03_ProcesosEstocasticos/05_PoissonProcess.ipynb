{
  "nbformat": 4,
  "nbformat_minor": 0,
  "metadata": {
    "colab": {
      "name": "PoissonProcess.ipynb",
      "provenance": [],
      "collapsed_sections": []
    },
    "kernelspec": {
      "name": "python3",
      "display_name": "Python 3"
    }
  },
  "cells": [
    {
      "cell_type": "markdown",
      "metadata": {
        "id": "-nV8q-qJWdsq"
      },
      "source": [
        "# Proceso de Poisson"
      ]
    },
    {
      "cell_type": "code",
      "metadata": {
        "id": "VUoK3fH5WcsS"
      },
      "source": [
        "import numpy as np\n",
        "import matplotlib.pyplot as plt\n",
        "%matplotlib inline"
      ],
      "execution_count": 1,
      "outputs": []
    },
    {
      "cell_type": "code",
      "metadata": {
        "id": "2_KiSsUPWnMi"
      },
      "source": [
        "rate = 20. # promedio de numero de eventos por segundo"
      ],
      "execution_count": 2,
      "outputs": []
    },
    {
      "cell_type": "code",
      "metadata": {
        "id": "nd4hjbusWqI7",
        "colab": {
          "base_uri": "https://localhost:8080/"
        },
        "outputId": "56e30c7a-208a-460c-9017-b3866c3868bf"
      },
      "source": [
        "dt = .001 # delta de tiempo\n",
        "n = int(1. / dt) # numero de pasos\n",
        "n"
      ],
      "execution_count": 5,
      "outputs": [
        {
          "output_type": "execute_result",
          "data": {
            "text/plain": [
              "1000"
            ]
          },
          "metadata": {},
          "execution_count": 5
        }
      ]
    },
    {
      "cell_type": "code",
      "metadata": {
        "id": "bTKc59FeWrkv"
      },
      "source": [
        "x = np.zeros(n)\n",
        "x[np.random.rand(n) <= rate * dt] = 1"
      ],
      "execution_count": 39,
      "outputs": []
    },
    {
      "cell_type": "code",
      "metadata": {
        "colab": {
          "base_uri": "https://localhost:8080/"
        },
        "id": "TMDBnG5PM39W",
        "outputId": "3a296c95-9ce3-4b69-d2d2-b9f22ada2cb3"
      },
      "source": [
        "np.sum(x)"
      ],
      "execution_count": 43,
      "outputs": [
        {
          "output_type": "execute_result",
          "data": {
            "text/plain": [
              "15.0"
            ]
          },
          "metadata": {},
          "execution_count": 43
        }
      ]
    },
    {
      "cell_type": "code",
      "metadata": {
        "id": "dCJOVfCVWve6",
        "colab": {
          "base_uri": "https://localhost:8080/",
          "height": 194
        },
        "outputId": "885743e1-3d4f-4e57-f756-d8707ddfecf1"
      },
      "source": [
        "fig, ax = plt.subplots(1, 1, figsize=(8, 3))\n",
        "ax.vlines(np.nonzero(x)[0], 0, 1)\n",
        "ax.set_axis_off()"
      ],
      "execution_count": 41,
      "outputs": [
        {
          "output_type": "display_data",
          "data": {
            "image/png": "[encoded data removed]",
            "text/plain": [
              "<Figure size 576x216 with 1 Axes>"
            ]
          },
          "metadata": {
            "needs_background": "light"
          }
        }
      ]
    },
    {
      "cell_type": "code",
      "metadata": {
        "id": "P5k3FxHFWxpn",
        "colab": {
          "base_uri": "https://localhost:8080/",
          "height": 297
        },
        "outputId": "1dfcd060-3ed0-4e27-eaad-d346fc60425c"
      },
      "source": [
        "fig, ax = plt.subplots(1, 1, figsize=(6, 4))\n",
        "ax.plot(np.linspace(0., 1., n),\n",
        "np.cumsum(x), lw=2)\n",
        "ax.set_xlabel(\"Tiempo\")\n",
        "ax.set_ylabel(\"Proceso de conteo\")"
      ],
      "execution_count": 42,
      "outputs": [
        {
          "output_type": "execute_result",
          "data": {
            "text/plain": [
              "Text(0, 0.5, 'Proceso de conteo')"
            ]
          },
          "metadata": {},
          "execution_count": 42
        },
        {
          "output_type": "display_data",
          "data": {
            "image/png": "[encoded data removed]",
            "text/plain": [
              "<Figure size 432x288 with 1 Axes>"
            ]
          },
          "metadata": {
            "needs_background": "light"
          }
        }
      ]
    },
    {
      "cell_type": "code",
      "metadata": {
        "id": "gD_yha2UW0Hu",
        "colab": {
          "base_uri": "https://localhost:8080/"
        },
        "outputId": "2697f0ef-e96f-469b-e099-67511e498594"
      },
      "source": [
        "y = np.cumsum(np.random.exponential(1. / rate, size=int(rate)))\n",
        "y.shape"
      ],
      "execution_count": 46,
      "outputs": [
        {
          "output_type": "execute_result",
          "data": {
            "text/plain": [
              "(20,)"
            ]
          },
          "metadata": {},
          "execution_count": 46
        }
      ]
    },
    {
      "cell_type": "code",
      "metadata": {
        "id": "EX76qSb0W2j2",
        "colab": {
          "base_uri": "https://localhost:8080/"
        },
        "outputId": "c69f2011-082a-476f-b71d-8f8b06d46f15"
      },
      "source": [
        "y[:10]"
      ],
      "execution_count": 45,
      "outputs": [
        {
          "output_type": "execute_result",
          "data": {
            "text/plain": [
              "array([2.61023474e-04, 4.67374583e-02, 8.93354829e-02, 3.89038605e-01,\n",
              "       4.26439708e-01, 4.60740532e-01, 5.16529397e-01, 5.58843489e-01,\n",
              "       5.68321048e-01, 5.90895830e-01])"
            ]
          },
          "metadata": {},
          "execution_count": 45
        }
      ]
    },
    {
      "cell_type": "code",
      "metadata": {
        "id": "oWoFpXs0W4ha",
        "colab": {
          "base_uri": "https://localhost:8080/",
          "height": 194
        },
        "outputId": "56e846f4-4bd6-4771-cfc9-8d586ed8a7e6"
      },
      "source": [
        "fig, ax = plt.subplots(1, 1, figsize=(8, 3))\n",
        "ax.vlines(y, 0, 1)\n",
        "ax.set_axis_off()"
      ],
      "execution_count": 47,
      "outputs": [
        {
          "output_type": "display_data",
          "data": {
            "image/png": "[encoded data removed]",
            "text/plain": [
              "<Figure size 576x216 with 1 Axes>"
            ]
          },
          "metadata": {
            "needs_background": "light"
          }
        }
      ]
    },
    {
      "cell_type": "code",
      "metadata": {
        "id": "r8G4BTIQW7CK"
      },
      "source": [
        ""
      ],
      "execution_count": null,
      "outputs": []
    }
  ]
}