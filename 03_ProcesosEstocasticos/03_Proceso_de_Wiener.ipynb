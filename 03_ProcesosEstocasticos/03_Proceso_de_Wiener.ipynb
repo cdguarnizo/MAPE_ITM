{
  "nbformat": 4,
  "nbformat_minor": 0,
  "metadata": {
    "colab": {
      "name": "03_Proceso_de_Wiener.ipynb",
      "provenance": [],
      "collapsed_sections": []
    },
    "kernelspec": {
      "name": "python3",
      "display_name": "Python 3"
    }
  },
  "cells": [
    {
      "cell_type": "markdown",
      "metadata": {
        "id": "uw_g47T0m4vp",
        "colab_type": "text"
      },
      "source": [
        "# Proceso de Wiener"
      ]
    },
    {
      "cell_type": "code",
      "metadata": {
        "id": "zVRksnoZnAUu",
        "colab_type": "code",
        "colab": {}
      },
      "source": [
        "import numpy as np\n",
        "np.random.seed(0)"
      ],
      "execution_count": 1,
      "outputs": []
    },
    {
      "cell_type": "code",
      "metadata": {
        "id": "Is5zhH1fmqoF",
        "colab_type": "code",
        "colab": {}
      },
      "source": [
        "def wiener_process(N, T, alpha):\n",
        "    \"\"\"\n",
        "    Simula un Proceso de Wiener\n",
        "    :param int N : Numero de pasos discreto\n",
        "    :param int T: Numero de pasos continuos\n",
        "    :param float alpha: Varianza de los incrementos \n",
        "    \"\"\"   \n",
        "    dt = 1.*T/N  # Constante de normalizacion\n",
        "    inc_alea = np.random.normal(0.0, alpha, N)*np.sqrt(dt)\n",
        "    wiener_pro = np.cumsum(inc_alea)  # Suma los incrementos\n",
        "    wiener_pro = np.insert(wiener_pro, 0, 0.0) # Agrega condicion inicial\n",
        "    \n",
        "    return wiener_pro, inc_alea"
      ],
      "execution_count": 2,
      "outputs": []
    },
    {
      "cell_type": "code",
      "metadata": {
        "id": "cWhlylnUn50W",
        "colab_type": "code",
        "colab": {}
      },
      "source": [
        "N = 50 # numero de pasos discretos\n",
        "T = 1 # numero de pasos continuos\n",
        "h = 1 # varianza del incremento\n",
        "dt = T/N  # numero total de pasos\n",
        "\n",
        "# genera un proceso de Wiener\n",
        "X, inc = wiener_process(N, T ,h)"
      ],
      "execution_count": 3,
      "outputs": []
    },
    {
      "cell_type": "code",
      "metadata": {
        "id": "y6TtUhpSorND",
        "colab_type": "code",
        "colab": {}
      },
      "source": [
        "import matplotlib.pyplot as plt\n",
        "%matplotlib inline"
      ],
      "execution_count": 4,
      "outputs": []
    },
    {
      "cell_type": "code",
      "metadata": {
        "id": "v2GQn8Mxov6d",
        "colab_type": "code",
        "colab": {
          "base_uri": "https://localhost:8080/",
          "height": 282
        },
        "outputId": "77e3efe1-e1ef-45a2-f2fc-238047317ef1"
      },
      "source": [
        "plt.plot(X)"
      ],
      "execution_count": 5,
      "outputs": [
        {
          "output_type": "execute_result",
          "data": {
            "text/plain": [
              "[<matplotlib.lines.Line2D at 0x7f8904e194a8>]"
            ]
          },
          "metadata": {
            "tags": []
          },
          "execution_count": 5
        },
        {
          "output_type": "display_data",
          "data": {
            "image/png": "[encoded data removed]",
            "text/plain": [
              "<Figure size 432x288 with 1 Axes>"
            ]
          },
          "metadata": {
            "tags": [],
            "needs_background": "light"
          }
        }
      ]
    },
    {
      "cell_type": "code",
      "metadata": {
        "id": "H7tYP2LIoyDP",
        "colab_type": "code",
        "colab": {
          "base_uri": "https://localhost:8080/",
          "height": 349
        },
        "outputId": "39de063e-16a3-4cea-8dec-8dcf864572ea"
      },
      "source": [
        "plt.hist(inc)"
      ],
      "execution_count": 6,
      "outputs": [
        {
          "output_type": "execute_result",
          "data": {
            "text/plain": [
              "(array([1., 3., 3., 5., 9., 8., 7., 5., 5., 4.]),\n",
              " array([-0.36104728, -0.29284338, -0.22463947, -0.15643556, -0.08823166,\n",
              "        -0.02002775,  0.04817615,  0.11638006,  0.18458397,  0.25278787,\n",
              "         0.32099178]),\n",
              " <a list of 10 Patch objects>)"
            ]
          },
          "metadata": {
            "tags": []
          },
          "execution_count": 6
        },
        {
          "output_type": "display_data",
          "data": {
            "image/png": "[encoded data removed]",
            "text/plain": [
              "<Figure size 432x288 with 1 Axes>"
            ]
          },
          "metadata": {
            "tags": [],
            "needs_background": "light"
          }
        }
      ]
    },
    {
      "cell_type": "code",
      "metadata": {
        "id": "F67svp7upPIt",
        "colab_type": "code",
        "colab": {}
      },
      "source": [
        ""
      ],
      "execution_count": 6,
      "outputs": []
    }
  ]
}